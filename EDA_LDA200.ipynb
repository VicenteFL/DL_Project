{
 "cells": [
  {
   "cell_type": "code",
   "execution_count": 1,
   "metadata": {},
   "outputs": [],
   "source": [
    "import pandas as pd\n",
    "import numpy as np\n",
    "import matplotlib.pyplot as plt\n",
    "\n",
    "import gensim\n",
    "from gensim import corpora, models\n",
    "from gensim.utils import simple_preprocess\n",
    "from gensim.parsing.preprocessing import STOPWORDS\n",
    "from gensim.test.utils import common_corpus, common_dictionary\n",
    "from gensim.models import HdpModel\n",
    "from gensim.models.ldamodel import LdaModel\n",
    "from gensim.models import CoherenceModel\n",
    "\n",
    "import pyLDAvis\n",
    "import pyLDAvis.gensim"
   ]
  },
  {
   "cell_type": "code",
   "execution_count": 2,
   "metadata": {},
   "outputs": [],
   "source": [
    "import warnings\n",
    "warnings.simplefilter(action='ignore', category=FutureWarning)"
   ]
  },
  {
   "cell_type": "code",
   "execution_count": 3,
   "metadata": {},
   "outputs": [],
   "source": [
    "train=pd.read_csv('df_final.csv')"
   ]
  },
  {
   "cell_type": "code",
   "execution_count": 4,
   "metadata": {},
   "outputs": [
    {
     "data": {
      "text/html": [
       "<div>\n",
       "<style scoped>\n",
       "    .dataframe tbody tr th:only-of-type {\n",
       "        vertical-align: middle;\n",
       "    }\n",
       "\n",
       "    .dataframe tbody tr th {\n",
       "        vertical-align: top;\n",
       "    }\n",
       "\n",
       "    .dataframe thead th {\n",
       "        text-align: right;\n",
       "    }\n",
       "</style>\n",
       "<table border=\"1\" class=\"dataframe\">\n",
       "  <thead>\n",
       "    <tr style=\"text-align: right;\">\n",
       "      <th></th>\n",
       "      <th>id</th>\n",
       "      <th>target</th>\n",
       "      <th>comment_text</th>\n",
       "      <th>severe_toxicity</th>\n",
       "      <th>obscene</th>\n",
       "      <th>identity_attack</th>\n",
       "      <th>insult</th>\n",
       "      <th>threat</th>\n",
       "      <th>asian</th>\n",
       "      <th>atheist</th>\n",
       "      <th>...</th>\n",
       "      <th>rating</th>\n",
       "      <th>funny</th>\n",
       "      <th>wow</th>\n",
       "      <th>sad</th>\n",
       "      <th>likes</th>\n",
       "      <th>disagree</th>\n",
       "      <th>sexual_explicit</th>\n",
       "      <th>identity_annotator_count</th>\n",
       "      <th>toxicity_annotator_count</th>\n",
       "      <th>target_dis</th>\n",
       "    </tr>\n",
       "  </thead>\n",
       "  <tbody>\n",
       "    <tr>\n",
       "      <td>0</td>\n",
       "      <td>530839</td>\n",
       "      <td>0.0</td>\n",
       "      <td>Oh really?</td>\n",
       "      <td>0.0</td>\n",
       "      <td>0.0</td>\n",
       "      <td>0.0</td>\n",
       "      <td>0.0</td>\n",
       "      <td>0.0</td>\n",
       "      <td>NaN</td>\n",
       "      <td>NaN</td>\n",
       "      <td>...</td>\n",
       "      <td>approved</td>\n",
       "      <td>0</td>\n",
       "      <td>0</td>\n",
       "      <td>0</td>\n",
       "      <td>1</td>\n",
       "      <td>0</td>\n",
       "      <td>0.0</td>\n",
       "      <td>0</td>\n",
       "      <td>4</td>\n",
       "      <td>0</td>\n",
       "    </tr>\n",
       "    <tr>\n",
       "      <td>1</td>\n",
       "      <td>5748613</td>\n",
       "      <td>0.0</td>\n",
       "      <td>Off point as usual.</td>\n",
       "      <td>0.0</td>\n",
       "      <td>0.0</td>\n",
       "      <td>0.0</td>\n",
       "      <td>0.0</td>\n",
       "      <td>0.0</td>\n",
       "      <td>0.0</td>\n",
       "      <td>0.0</td>\n",
       "      <td>...</td>\n",
       "      <td>approved</td>\n",
       "      <td>0</td>\n",
       "      <td>0</td>\n",
       "      <td>0</td>\n",
       "      <td>3</td>\n",
       "      <td>4</td>\n",
       "      <td>0.0</td>\n",
       "      <td>4</td>\n",
       "      <td>4</td>\n",
       "      <td>0</td>\n",
       "    </tr>\n",
       "    <tr>\n",
       "      <td>2</td>\n",
       "      <td>578912</td>\n",
       "      <td>0.2</td>\n",
       "      <td>Ummm....I'm the one who gave you that citation...</td>\n",
       "      <td>0.0</td>\n",
       "      <td>0.0</td>\n",
       "      <td>0.0</td>\n",
       "      <td>0.2</td>\n",
       "      <td>0.0</td>\n",
       "      <td>NaN</td>\n",
       "      <td>NaN</td>\n",
       "      <td>...</td>\n",
       "      <td>approved</td>\n",
       "      <td>0</td>\n",
       "      <td>0</td>\n",
       "      <td>0</td>\n",
       "      <td>1</td>\n",
       "      <td>0</td>\n",
       "      <td>0.0</td>\n",
       "      <td>0</td>\n",
       "      <td>5</td>\n",
       "      <td>1</td>\n",
       "    </tr>\n",
       "    <tr>\n",
       "      <td>3</td>\n",
       "      <td>5752481</td>\n",
       "      <td>0.2</td>\n",
       "      <td>Uh-huh.\\n\\nI didn't say he used \"all caps\" for...</td>\n",
       "      <td>0.0</td>\n",
       "      <td>0.0</td>\n",
       "      <td>0.0</td>\n",
       "      <td>0.2</td>\n",
       "      <td>0.0</td>\n",
       "      <td>NaN</td>\n",
       "      <td>NaN</td>\n",
       "      <td>...</td>\n",
       "      <td>approved</td>\n",
       "      <td>0</td>\n",
       "      <td>0</td>\n",
       "      <td>0</td>\n",
       "      <td>0</td>\n",
       "      <td>0</td>\n",
       "      <td>0.0</td>\n",
       "      <td>0</td>\n",
       "      <td>5</td>\n",
       "      <td>1</td>\n",
       "    </tr>\n",
       "    <tr>\n",
       "      <td>4</td>\n",
       "      <td>5335441</td>\n",
       "      <td>0.0</td>\n",
       "      <td>An exercise.  Write your name backwards in cur...</td>\n",
       "      <td>0.0</td>\n",
       "      <td>0.0</td>\n",
       "      <td>0.0</td>\n",
       "      <td>0.0</td>\n",
       "      <td>0.0</td>\n",
       "      <td>NaN</td>\n",
       "      <td>NaN</td>\n",
       "      <td>...</td>\n",
       "      <td>approved</td>\n",
       "      <td>0</td>\n",
       "      <td>0</td>\n",
       "      <td>0</td>\n",
       "      <td>0</td>\n",
       "      <td>0</td>\n",
       "      <td>0.0</td>\n",
       "      <td>0</td>\n",
       "      <td>4</td>\n",
       "      <td>0</td>\n",
       "    </tr>\n",
       "  </tbody>\n",
       "</table>\n",
       "<p>5 rows × 46 columns</p>\n",
       "</div>"
      ],
      "text/plain": [
       "        id  target                                       comment_text  \\\n",
       "0   530839     0.0                                         Oh really?   \n",
       "1  5748613     0.0                                Off point as usual.   \n",
       "2   578912     0.2  Ummm....I'm the one who gave you that citation...   \n",
       "3  5752481     0.2  Uh-huh.\\n\\nI didn't say he used \"all caps\" for...   \n",
       "4  5335441     0.0  An exercise.  Write your name backwards in cur...   \n",
       "\n",
       "   severe_toxicity  obscene  identity_attack  insult  threat  asian  atheist  \\\n",
       "0              0.0      0.0              0.0     0.0     0.0    NaN      NaN   \n",
       "1              0.0      0.0              0.0     0.0     0.0    0.0      0.0   \n",
       "2              0.0      0.0              0.0     0.2     0.0    NaN      NaN   \n",
       "3              0.0      0.0              0.0     0.2     0.0    NaN      NaN   \n",
       "4              0.0      0.0              0.0     0.0     0.0    NaN      NaN   \n",
       "\n",
       "   ...    rating  funny  wow  sad  likes  disagree  sexual_explicit  \\\n",
       "0  ...  approved      0    0    0      1         0              0.0   \n",
       "1  ...  approved      0    0    0      3         4              0.0   \n",
       "2  ...  approved      0    0    0      1         0              0.0   \n",
       "3  ...  approved      0    0    0      0         0              0.0   \n",
       "4  ...  approved      0    0    0      0         0              0.0   \n",
       "\n",
       "   identity_annotator_count  toxicity_annotator_count  target_dis  \n",
       "0                         0                         4           0  \n",
       "1                         4                         4           0  \n",
       "2                         0                         5           1  \n",
       "3                         0                         5           1  \n",
       "4                         0                         4           0  \n",
       "\n",
       "[5 rows x 46 columns]"
      ]
     },
     "execution_count": 4,
     "metadata": {},
     "output_type": "execute_result"
    }
   ],
   "source": [
    "train.head()"
   ]
  },
  {
   "cell_type": "code",
   "execution_count": 5,
   "metadata": {},
   "outputs": [
    {
     "data": {
      "text/plain": [
       "<matplotlib.axes._subplots.AxesSubplot at 0x2bc95149648>"
      ]
     },
     "execution_count": 5,
     "metadata": {},
     "output_type": "execute_result"
    },
    {
     "data": {
      "image/png": "[encoded data removed]",
      "text/plain": [
       "<Figure size 432x288 with 1 Axes>"
      ]
     },
     "metadata": {
      "needs_background": "light"
     },
     "output_type": "display_data"
    }
   ],
   "source": [
    "train.target_dis.hist()"
   ]
  },
  {
   "cell_type": "code",
   "execution_count": 6,
   "metadata": {},
   "outputs": [],
   "source": [
    "### Preprocess"
   ]
  },
  {
   "cell_type": "code",
   "execution_count": 7,
   "metadata": {},
   "outputs": [],
   "source": [
    "def preprocess(text):\n",
    "    result = []\n",
    "    for token in gensim.utils.simple_preprocess(text):\n",
    "        if token not in gensim.parsing.preprocessing.STOPWORDS and len(token) > 2:\n",
    "            result.append(token)\n",
    "    return result"
   ]
  },
  {
   "cell_type": "code",
   "execution_count": 8,
   "metadata": {},
   "outputs": [],
   "source": [
    "preprocessed_comments = train['comment_text'].sample(200000).map(preprocess)"
   ]
  },
  {
   "cell_type": "code",
   "execution_count": 9,
   "metadata": {},
   "outputs": [],
   "source": [
    "listToks = preprocessed_comments.values"
   ]
  },
  {
   "cell_type": "code",
   "execution_count": 10,
   "metadata": {},
   "outputs": [],
   "source": [
    "dictionary = gensim.corpora.Dictionary(preprocessed_comments)\n",
    "dictionary.filter_extremes(no_below=10, no_above=0.5, keep_n=75000)"
   ]
  },
  {
   "cell_type": "code",
   "execution_count": 11,
   "metadata": {},
   "outputs": [],
   "source": [
    "###Convert to bank of words"
   ]
  },
  {
   "cell_type": "code",
   "execution_count": 12,
   "metadata": {},
   "outputs": [],
   "source": [
    "bow_corpus = [dictionary.doc2bow(doc) for doc in preprocessed_comments]\n",
    "\n",
    "tfidf = models.TfidfModel(bow_corpus)\n",
    "corpus_tfidf = tfidf[bow_corpus]"
   ]
  },
  {
   "cell_type": "code",
   "execution_count": 13,
   "metadata": {},
   "outputs": [],
   "source": [
    "#Parametrical Sweep of n_topics and Compute Coherence Score\n",
    "limit=15\n",
    "c_v = [] # valores de coherencia \n",
    "u_mass = []\n",
    "lm_list = []\n",
    "\n",
    "for num_topics in range(1, limit):\n",
    "  lm = LdaModel(corpus=corpus_tfidf, num_topics=num_topics, passes=5, iterations=50, id2word=dictionary)  \n",
    "  lm_list.append(lm)\n",
    "    \n",
    "  cm_cv = CoherenceModel(model=lm, texts=listToks, coherence='c_v')\n",
    "  c_v.append(cm_cv.get_coherence())\n",
    "    \n",
    "  cm_umass = CoherenceModel(model=lm, corpus=corpus_tfidf, coherence='u_mass')\n",
    "  u_mass.append(cm_umass.get_coherence())"
   ]
  },
  {
   "cell_type": "code",
   "execution_count": 14,
   "metadata": {},
   "outputs": [
    {
     "data": {
      "image/png": "[encoded data removed]",
      "text/plain": [
       "<Figure size 432x288 with 1 Axes>"
      ]
     },
     "metadata": {
      "needs_background": "light"
     },
     "output_type": "display_data"
    }
   ],
   "source": [
    "# Graphical Representation\n",
    "u_mass_abs = list(map(abs, u_mass))\n",
    "u_mass_max = max(u_mass_abs)\n",
    "u_mass_esc = list(map(lambda x: x/u_mass_max, u_mass_abs))\n",
    "c_v_abs =list(map(abs, c_v))\n",
    "c_v_max = max(c_v_abs)\n",
    "c_v_esc = list(map(lambda x: x/c_v_max, c_v_abs))\n",
    "x = range(1, limit)\n",
    "\n",
    "plt.plot(x, c_v_esc, 'b-', x, u_mass_esc, 'r--')\n",
    "plt.xlabel(\"num_topics\")\n",
    "plt.ylabel(\"Coherence score\")\n",
    "plt.legend((\"c_v\", \"u_mass\"), loc='best')\n",
    "plt.show()"
   ]
  },
  {
   "cell_type": "code",
   "execution_count": 15,
   "metadata": {},
   "outputs": [],
   "source": [
    "#Final LDA optimum number of topics"
   ]
  },
  {
   "cell_type": "code",
   "execution_count": 19,
   "metadata": {},
   "outputs": [],
   "source": [
    "optimum_topics=8\n",
    "lda_model=lm_list[optimum_topics-1]"
   ]
  },
  {
   "cell_type": "code",
   "execution_count": 20,
   "metadata": {},
   "outputs": [
    {
     "name": "stdout",
     "output_type": "stream",
     "text": [
      "Train topic 0: (0, '0.011*\"www\" + 0.010*\"com\" + 0.008*\"https\" + 0.007*\"http\" + 0.004*\"youtube\" + 0.004*\"watch\" + 0.004*\"org\" + 0.004*\"korea\" + 0.003*\"caused\" + 0.003*\"north\"')\n",
      "Train topic 1: (1, '0.008*\"lol\" + 0.006*\"said\" + 0.005*\"removed\" + 0.005*\"moron\" + 0.005*\"trolls\" + 0.004*\"awesome\" + 0.004*\"pathetic\" + 0.004*\"thugs\" + 0.003*\"disgusting\" + 0.003*\"kim\"')\n",
      "Train topic 2: (2, '0.004*\"people\" + 0.004*\"like\" + 0.004*\"money\" + 0.003*\"time\" + 0.003*\"government\" + 0.003*\"tax\" + 0.003*\"state\" + 0.003*\"need\" + 0.003*\"years\" + 0.003*\"pay\"')\n",
      "Train topic 3: (3, '0.007*\"trump\" + 0.005*\"like\" + 0.004*\"people\" + 0.004*\"right\" + 0.004*\"know\" + 0.003*\"think\" + 0.003*\"white\" + 0.003*\"president\" + 0.003*\"good\" + 0.003*\"women\"')\n",
      "Train topic 4: (4, '0.004*\"rail\" + 0.003*\"schools\" + 0.002*\"building\" + 0.002*\"project\" + 0.002*\"pot\" + 0.002*\"season\" + 0.002*\"traffic\" + 0.002*\"football\" + 0.002*\"taxpayer\" + 0.002*\"plans\"')\n",
      "Train topic 5: (5, '0.003*\"perfect\" + 0.003*\"gary\" + 0.003*\"mental\" + 0.003*\"wynne\" + 0.003*\"cool\" + 0.002*\"trudeau\" + 0.002*\"provincial\" + 0.002*\"lived\" + 0.002*\"winning\" + 0.002*\"justin\"')\n",
      "Train topic 6: (6, '0.009*\"troll\" + 0.007*\"jesus\" + 0.005*\"news\" + 0.005*\"excellent\" + 0.004*\"charged\" + 0.004*\"beautiful\" + 0.004*\"island\" + 0.004*\"posts\" + 0.004*\"good\" + 0.003*\"yesterday\"')\n",
      "Train topic 7: (7, '0.006*\"trump\" + 0.005*\"hear\" + 0.004*\"racism\" + 0.004*\"fbi\" + 0.004*\"russians\" + 0.004*\"necessary\" + 0.004*\"liar\" + 0.003*\"flag\" + 0.003*\"funny\" + 0.003*\"beat\"')\n"
     ]
    }
   ],
   "source": [
    "topic_info = lda_model.print_topics(num_topics=200, num_words=10)\n",
    "for i, topic in enumerate(topic_info[:200]):\n",
    "    print(\"Train topic {}: {}\".format(i, topic))"
   ]
  },
  {
   "cell_type": "code",
   "execution_count": null,
   "metadata": {},
   "outputs": [],
   "source": [
    "vis = pyLDAvis.gensim.prepare(lda_model, bow_corpus, dictionary)\n",
    "pyLDAvis.save_html(vis, \"LDAVis_train.html\")"
   ]
  }
 ],
 "metadata": {
  "kernelspec": {
   "display_name": "Python 3",
   "language": "python",
   "name": "python3"
  },
  "language_info": {
   "codemirror_mode": {
    "name": "ipython",
    "version": 3
   },
   "file_extension": ".py",
   "mimetype": "text/x-python",
   "name": "python",
   "nbconvert_exporter": "python",
   "pygments_lexer": "ipython3",
   "version": "3.7.4"
  }
 },
 "nbformat": 4,
 "nbformat_minor": 2
}

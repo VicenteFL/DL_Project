{
 "cells": [
  {
   "cell_type": "markdown",
   "metadata": {},
   "source": [
    "# Pretrained word embeddings - FastText"
   ]
  },
  {
   "cell_type": "code",
   "execution_count": 47,
   "metadata": {},
   "outputs": [],
   "source": [
    "import numpy as np\n",
    "import pandas as pd\n",
    "import os, re, codecs\n",
    "\n",
    "from tqdm import tqdm\n",
    "\n",
    "from sklearn.model_selection import train_test_split\n",
    "\n",
    "import keras\n",
    "from keras import optimizers\n",
    "from keras import backend as K\n",
    "from keras import regularizers\n",
    "from keras.models import Sequential\n",
    "from keras.layers import Dense, Activation, Dropout, Flatten\n",
    "from keras.layers import Embedding, Conv1D, MaxPooling1D, GlobalMaxPooling1D, LSTM, GRU\n",
    "from keras.utils import plot_model\n",
    "from keras.preprocessing.sequence import pad_sequences\n",
    "from keras.preprocessing.text import Tokenizer\n",
    "from keras.callbacks import EarlyStopping\n"
   ]
  },
  {
   "cell_type": "markdown",
   "metadata": {},
   "source": [
    "### Parsing the FastText word-embeddings file"
   ]
  },
  {
   "cell_type": "code",
   "execution_count": 2,
   "metadata": {},
   "outputs": [
    {
     "name": "stdout",
     "output_type": "stream",
     "text": [
      "Loading word embeddings...\n"
     ]
    },
    {
     "name": "stderr",
     "output_type": "stream",
     "text": [
      "999995it [01:57, 8490.20it/s]\n"
     ]
    },
    {
     "name": "stdout",
     "output_type": "stream",
     "text": [
      "Found 999995 word vectors\n"
     ]
    }
   ],
   "source": [
    "# Load FastText embeddings\n",
    "print('Loading word embeddings...')\n",
    "\n",
    "embeddings_index = {}\n",
    "f = codecs.open('./wiki-news-300d-1M.vec', encoding='utf-8')\n",
    "for line in tqdm(f):\n",
    "    values = line.rstrip().rsplit(' ')\n",
    "    word = values[0]\n",
    "    coefs = np.asarray(values[1:], dtype='float32')\n",
    "    embeddings_index[word] = coefs\n",
    "f.close()\n",
    "\n",
    "print('Found %s word vectors' % len(embeddings_index))"
   ]
  },
  {
   "cell_type": "markdown",
   "metadata": {},
   "source": [
    "### Load data"
   ]
  },
  {
   "cell_type": "code",
   "execution_count": 3,
   "metadata": {},
   "outputs": [],
   "source": [
    "data_dir = \"../dlnn/datasets\""
   ]
  },
  {
   "cell_type": "code",
   "execution_count": 4,
   "metadata": {},
   "outputs": [],
   "source": [
    "df = pd.read_csv(os.path.join(data_dir, \"df_final.csv\"))"
   ]
  },
  {
   "cell_type": "markdown",
   "metadata": {},
   "source": [
    "### Tokenizing the text"
   ]
  },
  {
   "cell_type": "code",
   "execution_count": 37,
   "metadata": {},
   "outputs": [],
   "source": [
    "df_X = df[\"comment_text\"]\n",
    "df_Y = df[\"target_dis\"]"
   ]
  },
  {
   "cell_type": "code",
   "execution_count": 31,
   "metadata": {},
   "outputs": [],
   "source": [
    "df['doc_len'] = df['comment_text'].apply(lambda words: len(words.split(\" \")))\n",
    "max_seq_len = np.round(df['doc_len'].mean() + df['doc_len'].std()).astype(int)\n",
    "max_seq_len = 80 # Hard-coded: changed from 100 to 80 "
   ]
  },
  {
   "cell_type": "code",
   "execution_count": 33,
   "metadata": {},
   "outputs": [],
   "source": [
    "X_train, X_test, y_train, y_test = train_test_split(df_X, df_Y, test_size=0.2)"
   ]
  },
  {
   "cell_type": "code",
   "execution_count": 34,
   "metadata": {},
   "outputs": [],
   "source": [
    "maxwords = 100000"
   ]
  },
  {
   "cell_type": "code",
   "execution_count": 35,
   "metadata": {},
   "outputs": [
    {
     "name": "stdout",
     "output_type": "stream",
     "text": [
      "dictionary size:  302139\n"
     ]
    }
   ],
   "source": [
    "tokenizer = Tokenizer(num_words = maxwords)# Creates a tokenizer, configured to only take into account the 1,000 most common words\n",
    "tokenizer.fit_on_texts(df_X)# Builds the word index\n",
    "\n",
    "train_samples = tokenizer.texts_to_sequences(X_train)# Turn strings into lists of integer indices\n",
    "test_samples = tokenizer.texts_to_sequences(X_test)\n",
    "\n",
    "word_index = tokenizer.word_index\n",
    "print(\"dictionary size: \", len(word_index))"
   ]
  },
  {
   "cell_type": "code",
   "execution_count": 38,
   "metadata": {},
   "outputs": [],
   "source": [
    "train_data = pad_sequences(train_samples, padding='post', maxlen=max_seq_len)# Turns the lists of integers into a 2D tensor of shape (samples, maxlen)\n",
    "test_data = pad_sequences(test_samples, padding='post', maxlen=max_seq_len)"
   ]
  },
  {
   "cell_type": "markdown",
   "metadata": {},
   "source": [
    "### Training and model parameters"
   ]
  },
  {
   "cell_type": "code",
   "execution_count": 40,
   "metadata": {},
   "outputs": [],
   "source": [
    "# Training params\n",
    "batch_size = 256\n",
    "epochs = 8\n",
    "\n",
    "# Model parameters\n",
    "# Convolution\n",
    "num_filters = 64\n",
    "kernel_size = 7\n",
    "embed_dim = 300\n",
    "weight_decay = 1e-4\n",
    "pool_size = 4\n",
    "\n",
    "# LSTM\n",
    "lstm_output_size = 100"
   ]
  },
  {
   "cell_type": "markdown",
   "metadata": {},
   "source": [
    "### Preparing the FastText word-embeddings matrix"
   ]
  },
  {
   "cell_type": "code",
   "execution_count": 41,
   "metadata": {},
   "outputs": [
    {
     "name": "stdout",
     "output_type": "stream",
     "text": [
      "Preparing embedding matrix...\n",
      "number of null word embeddings: 32673\n"
     ]
    }
   ],
   "source": [
    "print('Preparing embedding matrix...')\n",
    "\n",
    "words_not_found = []\n",
    "nb_words = min(maxwords, len(word_index))\n",
    "embedding_matrix = np.zeros((nb_words, embed_dim))\n",
    "for word, i in word_index.items():\n",
    "    if i >= nb_words:\n",
    "        continue\n",
    "    embedding_vector = embeddings_index.get(word)\n",
    "    if (embedding_vector is not None) and len(embedding_vector) > 0:\n",
    "        # words not found in embedding index will be all-zeros.\n",
    "        embedding_matrix[i] = embedding_vector\n",
    "    else:\n",
    "        words_not_found.append(word)\n",
    "        \n",
    "print('number of null word embeddings: %d' % np.sum(np.sum(embedding_matrix, axis=1) == 0))"
   ]
  },
  {
   "cell_type": "code",
   "execution_count": 44,
   "metadata": {},
   "outputs": [
    {
     "name": "stdout",
     "output_type": "stream",
     "text": [
      "sample words not found:  ['kwh3' 'raif' '“instead' \"get'cha\" \"musk's\"\n",
      " '221d2ef086b6a0532ab7221d2ef086b6a0532ab7' 'uppance' \"bans'\" \"war'\"\n",
      " \"servant's\"]\n"
     ]
    }
   ],
   "source": [
    "print(\"sample words not found: \", np.random.choice(words_not_found, 10))"
   ]
  },
  {
   "cell_type": "code",
   "execution_count": 45,
   "metadata": {},
   "outputs": [
    {
     "data": {
      "text/plain": [
       "array([[ 0.        ,  0.        ,  0.        , ...,  0.        ,\n",
       "         0.        ,  0.        ],\n",
       "       [ 0.0897    ,  0.016     , -0.0571    , ...,  0.1559    ,\n",
       "        -0.0254    , -0.0259    ],\n",
       "       [ 0.0495    ,  0.0411    ,  0.0041    , ...,  0.23710001,\n",
       "        -0.0298    , -0.0284    ],\n",
       "       ...,\n",
       "       [ 0.0505    ,  0.0786    ,  0.069     , ...,  0.192     ,\n",
       "        -0.0392    , -0.0477    ],\n",
       "       [ 0.        ,  0.        ,  0.        , ...,  0.        ,\n",
       "         0.        ,  0.        ],\n",
       "       [ 0.0394    ,  0.0791    ,  0.12989999, ...,  0.0981    ,\n",
       "         0.1227    ,  0.0346    ]])"
      ]
     },
     "execution_count": 45,
     "metadata": {},
     "output_type": "execute_result"
    }
   ],
   "source": [
    "embedding_matrix"
   ]
  },
  {
   "cell_type": "markdown",
   "metadata": {},
   "source": [
    "### Custom metrics:  f1_score, precision, recall"
   ]
  },
  {
   "cell_type": "code",
   "execution_count": 50,
   "metadata": {},
   "outputs": [],
   "source": [
    "def recall_m(y_true, y_pred):\n",
    "        true_positives = K.sum(K.round(K.clip(y_true * y_pred, 0, 1)))\n",
    "        possible_positives = K.sum(K.round(K.clip(y_true, 0, 1)))\n",
    "        recall = true_positives / (possible_positives + K.epsilon())\n",
    "        return recall\n",
    "\n",
    "def precision_m(y_true, y_pred):\n",
    "        true_positives = K.sum(K.round(K.clip(y_true * y_pred, 0, 1)))\n",
    "        predicted_positives = K.sum(K.round(K.clip(y_pred, 0, 1)))\n",
    "        precision = true_positives / (predicted_positives + K.epsilon())\n",
    "        return precision\n",
    "\n",
    "def f1_m(y_true, y_pred):\n",
    "    precision = precision_m(y_true, y_pred)\n",
    "    recall = recall_m(y_true, y_pred)\n",
    "    return 2*((precision*recall)/(precision+recall+K.epsilon()))"
   ]
  },
  {
   "cell_type": "markdown",
   "metadata": {},
   "source": [
    "### Defining and training a model"
   ]
  },
  {
   "cell_type": "code",
   "execution_count": 70,
   "metadata": {},
   "outputs": [
    {
     "name": "stdout",
     "output_type": "stream",
     "text": [
      "_________________________________________________________________\n",
      "Layer (type)                 Output Shape              Param #   \n",
      "=================================================================\n",
      "embedding_4 (Embedding)      (None, 80, 300)           30000000  \n",
      "_________________________________________________________________\n",
      "dropout_7 (Dropout)          (None, 80, 300)           0         \n",
      "_________________________________________________________________\n",
      "conv1d_4 (Conv1D)            (None, 78, 64)            57664     \n",
      "_________________________________________________________________\n",
      "max_pooling1d_4 (MaxPooling1 (None, 19, 64)            0         \n",
      "_________________________________________________________________\n",
      "bidirectional_4 (Bidirection (None, 256)               148224    \n",
      "_________________________________________________________________\n",
      "dropout_8 (Dropout)          (None, 256)               0         \n",
      "_________________________________________________________________\n",
      "dense_4 (Dense)              (None, 1)                 257       \n",
      "=================================================================\n",
      "Total params: 30,206,145\n",
      "Trainable params: 206,145\n",
      "Non-trainable params: 30,000,000\n",
      "_________________________________________________________________\n",
      "Train on 777758 samples, validate on 86418 samples\n",
      "Epoch 1/50\n",
      " - 303s - loss: 0.5365 - acc: 0.7297 - f1_m: 0.7199 - precision_m: 0.7473 - recall_m: 0.6999 - val_loss: 0.4979 - val_acc: 0.7577 - val_f1_m: 0.7433 - val_precision_m: 0.7917 - val_recall_m: 0.7020\n",
      "Epoch 2/50\n",
      " - 213s - loss: 0.5142 - acc: 0.7463 - f1_m: 0.7370 - precision_m: 0.7645 - recall_m: 0.7145 - val_loss: 0.4905 - val_acc: 0.7627 - val_f1_m: 0.7511 - val_precision_m: 0.7906 - val_recall_m: 0.7169\n",
      "Epoch 3/50\n",
      " - 213s - loss: 0.5077 - acc: 0.7507 - f1_m: 0.7414 - precision_m: 0.7690 - recall_m: 0.7185 - val_loss: 0.4906 - val_acc: 0.7635 - val_f1_m: 0.7624 - val_precision_m: 0.7673 - val_recall_m: 0.7591\n",
      "Epoch 4/50\n",
      " - 213s - loss: 0.5039 - acc: 0.7532 - f1_m: 0.7437 - precision_m: 0.7721 - recall_m: 0.7199 - val_loss: 0.4874 - val_acc: 0.7657 - val_f1_m: 0.7600 - val_precision_m: 0.7799 - val_recall_m: 0.7426\n",
      "Epoch 5/50\n",
      " - 213s - loss: 0.5007 - acc: 0.7551 - f1_m: 0.7456 - precision_m: 0.7741 - recall_m: 0.7215 - val_loss: 0.4851 - val_acc: 0.7663 - val_f1_m: 0.7546 - val_precision_m: 0.7955 - val_recall_m: 0.7192\n",
      "Epoch 6/50\n",
      " - 211s - loss: 0.4989 - acc: 0.7564 - f1_m: 0.7470 - precision_m: 0.7758 - recall_m: 0.7226 - val_loss: 0.4861 - val_acc: 0.7665 - val_f1_m: 0.7556 - val_precision_m: 0.7938 - val_recall_m: 0.7224\n",
      "Epoch 7/50\n",
      " - 213s - loss: 0.4967 - acc: 0.7580 - f1_m: 0.7490 - precision_m: 0.7762 - recall_m: 0.7258 - val_loss: 0.4850 - val_acc: 0.7679 - val_f1_m: 0.7618 - val_precision_m: 0.7835 - val_recall_m: 0.7427\n",
      "Epoch 8/50\n",
      " - 211s - loss: 0.4959 - acc: 0.7583 - f1_m: 0.7494 - precision_m: 0.7767 - recall_m: 0.7262 - val_loss: 0.4878 - val_acc: 0.7663 - val_f1_m: 0.7679 - val_precision_m: 0.7642 - val_recall_m: 0.7731\n",
      "Epoch 9/50\n",
      " - 211s - loss: 0.4950 - acc: 0.7589 - f1_m: 0.7497 - precision_m: 0.7780 - recall_m: 0.7255 - val_loss: 0.4857 - val_acc: 0.7666 - val_f1_m: 0.7652 - val_precision_m: 0.7708 - val_recall_m: 0.7612\n",
      "Epoch 10/50\n",
      " - 211s - loss: 0.4937 - acc: 0.7593 - f1_m: 0.7502 - precision_m: 0.7780 - recall_m: 0.7265 - val_loss: 0.4869 - val_acc: 0.7674 - val_f1_m: 0.7640 - val_precision_m: 0.7766 - val_recall_m: 0.7533\n",
      "Epoch 11/50\n",
      " - 211s - loss: 0.4929 - acc: 0.7604 - f1_m: 0.7513 - precision_m: 0.7794 - recall_m: 0.7274 - val_loss: 0.4910 - val_acc: 0.7675 - val_f1_m: 0.7642 - val_precision_m: 0.7764 - val_recall_m: 0.7538\n",
      "Epoch 12/50\n",
      " - 210s - loss: 0.4924 - acc: 0.7601 - f1_m: 0.7511 - precision_m: 0.7789 - recall_m: 0.7273 - val_loss: 0.4853 - val_acc: 0.7667 - val_f1_m: 0.7658 - val_precision_m: 0.7701 - val_recall_m: 0.7629\n",
      "Epoch 13/50\n",
      " - 210s - loss: 0.4913 - acc: 0.7611 - f1_m: 0.7524 - precision_m: 0.7794 - recall_m: 0.7291 - val_loss: 0.4838 - val_acc: 0.7688 - val_f1_m: 0.7656 - val_precision_m: 0.7776 - val_recall_m: 0.7554\n",
      "Epoch 14/50\n",
      " - 211s - loss: 0.4902 - acc: 0.7619 - f1_m: 0.7531 - precision_m: 0.7807 - recall_m: 0.7294 - val_loss: 0.4847 - val_acc: 0.7684 - val_f1_m: 0.7656 - val_precision_m: 0.7762 - val_recall_m: 0.7569\n",
      "Epoch 15/50\n",
      " - 211s - loss: 0.4899 - acc: 0.7620 - f1_m: 0.7532 - precision_m: 0.7807 - recall_m: 0.7297 - val_loss: 0.4848 - val_acc: 0.7690 - val_f1_m: 0.7671 - val_precision_m: 0.7747 - val_recall_m: 0.7611\n",
      "Epoch 16/50\n",
      " - 211s - loss: 0.4894 - acc: 0.7621 - f1_m: 0.7530 - precision_m: 0.7814 - recall_m: 0.7285 - val_loss: 0.4859 - val_acc: 0.7672 - val_f1_m: 0.7665 - val_precision_m: 0.7703 - val_recall_m: 0.7642\n",
      "Epoch 17/50\n",
      " - 210s - loss: 0.4884 - acc: 0.7626 - f1_m: 0.7538 - precision_m: 0.7813 - recall_m: 0.7301 - val_loss: 0.4888 - val_acc: 0.7675 - val_f1_m: 0.7676 - val_precision_m: 0.7685 - val_recall_m: 0.7681\n",
      "Epoch 18/50\n",
      " - 211s - loss: 0.4881 - acc: 0.7632 - f1_m: 0.7541 - precision_m: 0.7825 - recall_m: 0.7297 - val_loss: 0.4845 - val_acc: 0.7681 - val_f1_m: 0.7658 - val_precision_m: 0.7747 - val_recall_m: 0.7585\n",
      "Epoch 19/50\n",
      " - 211s - loss: 0.4875 - acc: 0.7633 - f1_m: 0.7546 - precision_m: 0.7816 - recall_m: 0.7313 - val_loss: 0.4858 - val_acc: 0.7663 - val_f1_m: 0.7684 - val_precision_m: 0.7628 - val_recall_m: 0.7754\n",
      "Epoch 20/50\n",
      " - 210s - loss: 0.4866 - acc: 0.7640 - f1_m: 0.7552 - precision_m: 0.7827 - recall_m: 0.7315 - val_loss: 0.4835 - val_acc: 0.7684 - val_f1_m: 0.7652 - val_precision_m: 0.7775 - val_recall_m: 0.7547\n",
      "Epoch 21/50\n",
      " - 211s - loss: 0.4866 - acc: 0.7638 - f1_m: 0.7550 - precision_m: 0.7823 - recall_m: 0.7316 - val_loss: 0.4829 - val_acc: 0.7674 - val_f1_m: 0.7667 - val_precision_m: 0.7703 - val_recall_m: 0.7646\n",
      "Epoch 22/50\n",
      " - 211s - loss: 0.4867 - acc: 0.7638 - f1_m: 0.7549 - precision_m: 0.7826 - recall_m: 0.7311 - val_loss: 0.4850 - val_acc: 0.7678 - val_f1_m: 0.7695 - val_precision_m: 0.7649 - val_recall_m: 0.7757\n",
      "Epoch 23/50\n",
      " - 211s - loss: 0.4853 - acc: 0.7648 - f1_m: 0.7560 - precision_m: 0.7838 - recall_m: 0.7320 - val_loss: 0.4811 - val_acc: 0.7691 - val_f1_m: 0.7594 - val_precision_m: 0.7937 - val_recall_m: 0.7295\n",
      "Epoch 24/50\n",
      " - 211s - loss: 0.4853 - acc: 0.7648 - f1_m: 0.7558 - precision_m: 0.7841 - recall_m: 0.7315 - val_loss: 0.4896 - val_acc: 0.7672 - val_f1_m: 0.7682 - val_precision_m: 0.7661 - val_recall_m: 0.7717\n",
      "Epoch 25/50\n",
      " - 211s - loss: 0.4857 - acc: 0.7645 - f1_m: 0.7557 - precision_m: 0.7833 - recall_m: 0.7318 - val_loss: 0.4843 - val_acc: 0.7677 - val_f1_m: 0.7670 - val_precision_m: 0.7707 - val_recall_m: 0.7647\n",
      "Epoch 26/50\n",
      " - 211s - loss: 0.4846 - acc: 0.7653 - f1_m: 0.7566 - precision_m: 0.7845 - recall_m: 0.7326 - val_loss: 0.4845 - val_acc: 0.7680 - val_f1_m: 0.7677 - val_precision_m: 0.7697 - val_recall_m: 0.7671\n",
      "Epoch 27/50\n",
      " - 211s - loss: 0.4849 - acc: 0.7652 - f1_m: 0.7566 - precision_m: 0.7838 - recall_m: 0.7330 - val_loss: 0.4856 - val_acc: 0.7663 - val_f1_m: 0.7683 - val_precision_m: 0.7632 - val_recall_m: 0.7751\n",
      "Epoch 28/50\n",
      " - 211s - loss: 0.4838 - acc: 0.7658 - f1_m: 0.7572 - precision_m: 0.7844 - recall_m: 0.7336 - val_loss: 0.4843 - val_acc: 0.7685 - val_f1_m: 0.7633 - val_precision_m: 0.7821 - val_recall_m: 0.7468\n",
      "Epoch 29/50\n",
      " - 210s - loss: 0.4838 - acc: 0.7656 - f1_m: 0.7569 - precision_m: 0.7843 - recall_m: 0.7331 - val_loss: 0.4827 - val_acc: 0.7677 - val_f1_m: 0.7680 - val_precision_m: 0.7685 - val_recall_m: 0.7689\n",
      "Epoch 30/50\n",
      " - 211s - loss: 0.4836 - acc: 0.7655 - f1_m: 0.7567 - precision_m: 0.7847 - recall_m: 0.7323 - val_loss: 0.4879 - val_acc: 0.7647 - val_f1_m: 0.7694 - val_precision_m: 0.7557 - val_recall_m: 0.7852\n",
      "Epoch 31/50\n",
      " - 211s - loss: 0.4836 - acc: 0.7660 - f1_m: 0.7574 - precision_m: 0.7845 - recall_m: 0.7338 - val_loss: 0.4887 - val_acc: 0.7679 - val_f1_m: 0.7662 - val_precision_m: 0.7733 - val_recall_m: 0.7606\n",
      "Epoch 32/50\n",
      " - 211s - loss: 0.4830 - acc: 0.7661 - f1_m: 0.7575 - precision_m: 0.7850 - recall_m: 0.7334 - val_loss: 0.4852 - val_acc: 0.7680 - val_f1_m: 0.7634 - val_precision_m: 0.7803 - val_recall_m: 0.7488\n",
      "Epoch 33/50\n",
      " - 211s - loss: 0.4830 - acc: 0.7660 - f1_m: 0.7573 - precision_m: 0.7849 - recall_m: 0.7332 - val_loss: 0.4860 - val_acc: 0.7665 - val_f1_m: 0.7681 - val_precision_m: 0.7641 - val_recall_m: 0.7737\n"
     ]
    },
    {
     "name": "stdout",
     "output_type": "stream",
     "text": [
      "Epoch 34/50\n",
      " - 211s - loss: 0.4825 - acc: 0.7665 - f1_m: 0.7578 - precision_m: 0.7858 - recall_m: 0.7334 - val_loss: 0.4866 - val_acc: 0.7669 - val_f1_m: 0.7670 - val_precision_m: 0.7682 - val_recall_m: 0.7672\n",
      "Epoch 35/50\n",
      " - 211s - loss: 0.4825 - acc: 0.7663 - f1_m: 0.7576 - precision_m: 0.7854 - recall_m: 0.7335 - val_loss: 0.4839 - val_acc: 0.7669 - val_f1_m: 0.7641 - val_precision_m: 0.7745 - val_recall_m: 0.7555\n",
      "Epoch 36/50\n",
      " - 211s - loss: 0.4820 - acc: 0.7666 - f1_m: 0.7578 - precision_m: 0.7857 - recall_m: 0.7335 - val_loss: 0.4869 - val_acc: 0.7671 - val_f1_m: 0.7668 - val_precision_m: 0.7691 - val_recall_m: 0.7661\n",
      "Epoch 37/50\n",
      " - 210s - loss: 0.4822 - acc: 0.7665 - f1_m: 0.7578 - precision_m: 0.7854 - recall_m: 0.7337 - val_loss: 0.4861 - val_acc: 0.7683 - val_f1_m: 0.7620 - val_precision_m: 0.7842 - val_recall_m: 0.7426\n",
      "Epoch 38/50\n",
      " - 211s - loss: 0.4819 - acc: 0.7667 - f1_m: 0.7578 - precision_m: 0.7862 - recall_m: 0.7331 - val_loss: 0.4862 - val_acc: 0.7669 - val_f1_m: 0.7683 - val_precision_m: 0.7651 - val_recall_m: 0.7731\n",
      "Epoch 39/50\n",
      " - 211s - loss: 0.4818 - acc: 0.7667 - f1_m: 0.7578 - precision_m: 0.7861 - recall_m: 0.7333 - val_loss: 0.4849 - val_acc: 0.7680 - val_f1_m: 0.7683 - val_precision_m: 0.7685 - val_recall_m: 0.7697\n",
      "Epoch 40/50\n",
      " - 211s - loss: 0.4814 - acc: 0.7669 - f1_m: 0.7582 - precision_m: 0.7860 - recall_m: 0.7341 - val_loss: 0.4889 - val_acc: 0.7684 - val_f1_m: 0.7675 - val_precision_m: 0.7718 - val_recall_m: 0.7647\n",
      "Epoch 41/50\n",
      " - 211s - loss: 0.4816 - acc: 0.7667 - f1_m: 0.7577 - precision_m: 0.7866 - recall_m: 0.7325 - val_loss: 0.4913 - val_acc: 0.7658 - val_f1_m: 0.7699 - val_precision_m: 0.7579 - val_recall_m: 0.7837\n",
      "Epoch 42/50\n",
      " - 210s - loss: 0.4812 - acc: 0.7669 - f1_m: 0.7582 - precision_m: 0.7862 - recall_m: 0.7337 - val_loss: 0.4826 - val_acc: 0.7671 - val_f1_m: 0.7666 - val_precision_m: 0.7695 - val_recall_m: 0.7652\n",
      "Epoch 43/50\n",
      " - 210s - loss: 0.4808 - acc: 0.7672 - f1_m: 0.7588 - precision_m: 0.7859 - recall_m: 0.7352 - val_loss: 0.4843 - val_acc: 0.7678 - val_f1_m: 0.7661 - val_precision_m: 0.7729 - val_recall_m: 0.7610\n",
      "Epoch 44/50\n",
      " - 211s - loss: 0.4809 - acc: 0.7674 - f1_m: 0.7587 - precision_m: 0.7865 - recall_m: 0.7345 - val_loss: 0.4864 - val_acc: 0.7683 - val_f1_m: 0.7662 - val_precision_m: 0.7748 - val_recall_m: 0.7593\n",
      "Epoch 45/50\n",
      " - 211s - loss: 0.4811 - acc: 0.7675 - f1_m: 0.7590 - precision_m: 0.7862 - recall_m: 0.7354 - val_loss: 0.4879 - val_acc: 0.7673 - val_f1_m: 0.7679 - val_precision_m: 0.7670 - val_recall_m: 0.7704\n",
      "Epoch 46/50\n",
      " - 211s - loss: 0.4805 - acc: 0.7678 - f1_m: 0.7591 - precision_m: 0.7868 - recall_m: 0.7351 - val_loss: 0.4902 - val_acc: 0.7665 - val_f1_m: 0.7657 - val_precision_m: 0.7697 - val_recall_m: 0.7632\n",
      "Epoch 47/50\n",
      " - 210s - loss: 0.4808 - acc: 0.7672 - f1_m: 0.7586 - precision_m: 0.7860 - recall_m: 0.7347 - val_loss: 0.4859 - val_acc: 0.7665 - val_f1_m: 0.7664 - val_precision_m: 0.7681 - val_recall_m: 0.7661\n",
      "Epoch 48/50\n",
      " - 211s - loss: 0.4801 - acc: 0.7677 - f1_m: 0.7588 - precision_m: 0.7872 - recall_m: 0.7340 - val_loss: 0.4889 - val_acc: 0.7653 - val_f1_m: 0.7665 - val_precision_m: 0.7641 - val_recall_m: 0.7704\n",
      "Epoch 49/50\n",
      " - 210s - loss: 0.4802 - acc: 0.7678 - f1_m: 0.7591 - precision_m: 0.7869 - recall_m: 0.7347 - val_loss: 0.4864 - val_acc: 0.7672 - val_f1_m: 0.7646 - val_precision_m: 0.7744 - val_recall_m: 0.7565\n",
      "Epoch 50/50\n",
      " - 210s - loss: 0.4802 - acc: 0.7677 - f1_m: 0.7590 - precision_m: 0.7869 - recall_m: 0.7346 - val_loss: 0.4926 - val_acc: 0.7645 - val_f1_m: 0.7687 - val_precision_m: 0.7567 - val_recall_m: 0.7824\n"
     ]
    }
   ],
   "source": [
    "def create_conv_model():\n",
    "    model_conv = Sequential()\n",
    "    model_conv.add(Embedding(input_dim=nb_words, output_dim=embed_dim, weights=[embedding_matrix], input_length=max_seq_len, trainable=False))\n",
    "    model_conv.add(Dropout(0.5))\n",
    "    model_conv.add(Conv1D(64, 3, activation='relu'))\n",
    "    model_conv.add(MaxPooling1D(pool_size=4))\n",
    "    model_conv.add(Bidirectional(GRU(128)))\n",
    "    model_conv.add(Dropout(0.5)) # **** considerar\n",
    "    model_conv.add(Dense(1, activation='sigmoid'))\n",
    "    \n",
    "    model_conv.compile(loss='binary_crossentropy', optimizer='adam', metrics=['accuracy', f1_m, precision_m, recall_m])\n",
    "    return model_conv\n",
    "\n",
    "model = create_conv_model()\n",
    "model.summary()\n",
    "hist = model.fit(train_data, y_train, batch_size=batch_size, epochs=50, validation_split=0.1, shuffle=True, verbose=2)"
   ]
  },
  {
   "cell_type": "markdown",
   "metadata": {},
   "source": [
    "### Evaluate model"
   ]
  },
  {
   "cell_type": "code",
   "execution_count": 75,
   "metadata": {},
   "outputs": [],
   "source": [
    "loss, accuracy, f1_score, precision, recall = model.evaluate(test_data, y_test, verbose=0)"
   ]
  },
  {
   "cell_type": "code",
   "execution_count": 76,
   "metadata": {},
   "outputs": [
    {
     "data": {
      "text/plain": [
       "0.4943623340756015"
      ]
     },
     "execution_count": 76,
     "metadata": {},
     "output_type": "execute_result"
    }
   ],
   "source": [
    "loss"
   ]
  },
  {
   "cell_type": "code",
   "execution_count": 77,
   "metadata": {},
   "outputs": [
    {
     "data": {
      "text/plain": [
       "0.7635342800529595"
      ]
     },
     "execution_count": 77,
     "metadata": {},
     "output_type": "execute_result"
    }
   ],
   "source": [
    "accuracy"
   ]
  },
  {
   "cell_type": "code",
   "execution_count": 78,
   "metadata": {},
   "outputs": [
    {
     "data": {
      "text/plain": [
       "0.7614370718504838"
      ]
     },
     "execution_count": 78,
     "metadata": {},
     "output_type": "execute_result"
    }
   ],
   "source": [
    "f1_score"
   ]
  },
  {
   "cell_type": "code",
   "execution_count": 79,
   "metadata": {},
   "outputs": [
    {
     "data": {
      "text/plain": [
       "0.7548161656388934"
      ]
     },
     "execution_count": 79,
     "metadata": {},
     "output_type": "execute_result"
    }
   ],
   "source": [
    "precision"
   ]
  },
  {
   "cell_type": "markdown",
   "metadata": {},
   "source": [
    "### Save whatever model"
   ]
  },
  {
   "cell_type": "code",
   "execution_count": 63,
   "metadata": {},
   "outputs": [
    {
     "name": "stdout",
     "output_type": "stream",
     "text": [
      "Saved model to disk\n"
     ]
    }
   ],
   "source": [
    "model.save(\"CNN_FastText.h5\")\n",
    "print(\"Saved model to disk\")"
   ]
  },
  {
   "cell_type": "markdown",
   "metadata": {},
   "source": [
    "### Plot model results"
   ]
  },
  {
   "cell_type": "code",
   "execution_count": 71,
   "metadata": {},
   "outputs": [
    {
     "data": {
      "image/png": "[encoded data removed]",
      "text/plain": [
       "<Figure size 432x288 with 1 Axes>"
      ]
     },
     "metadata": {
      "needs_background": "light"
     },
     "output_type": "display_data"
    }
   ],
   "source": [
    "import matplotlib.pyplot as plt\n",
    "\n",
    "#generate plots\n",
    "plt.figure()\n",
    "plt.plot(hist.history['loss'], lw=2.0, color='b', label='train')\n",
    "plt.plot(hist.history['val_loss'], lw=2.0, color='r', label='val')\n",
    "plt.title('CNN sentiment')\n",
    "plt.xlabel('Epochs')\n",
    "plt.ylabel('Cross-Entropy Loss')\n",
    "plt.legend(loc='upper right')\n",
    "plt.show()"
   ]
  },
  {
   "cell_type": "code",
   "execution_count": 72,
   "metadata": {},
   "outputs": [
    {
     "data": {
      "image/png": "[encoded data removed]",
      "text/plain": [
       "<Figure size 432x288 with 1 Axes>"
      ]
     },
     "metadata": {
      "needs_background": "light"
     },
     "output_type": "display_data"
    }
   ],
   "source": [
    "plt.figure()\n",
    "plt.plot(hist.history['acc'], lw=2.0, color='b', label='train')\n",
    "plt.plot(hist.history['val_acc'], lw=2.0, color='r', label='val')\n",
    "plt.title('CNN sentiment')\n",
    "plt.xlabel('Epochs')\n",
    "plt.ylabel('Accuracy')\n",
    "\n",
    "plt.legend(loc='upper left')\n",
    "plt.show()"
   ]
  },
  {
   "cell_type": "code",
   "execution_count": 73,
   "metadata": {},
   "outputs": [
    {
     "data": {
      "image/png": "[encoded data removed]",
      "text/plain": [
       "<Figure size 432x288 with 1 Axes>"
      ]
     },
     "metadata": {
      "needs_background": "light"
     },
     "output_type": "display_data"
    }
   ],
   "source": [
    "plt.figure()\n",
    "plt.plot(hist.history['f1_m'], lw=2.0, color='b', label='train')\n",
    "plt.plot(hist.history['val_f1_m'], lw=2.0, color='r', label='val')\n",
    "plt.title('CNN sentiment')\n",
    "plt.xlabel('Epochs')\n",
    "plt.ylabel('f1-score')\n",
    "plt.legend(loc='upper left')\n",
    "plt.show()"
   ]
  },
  {
   "cell_type": "code",
   "execution_count": null,
   "metadata": {},
   "outputs": [],
   "source": []
  }
 ],
 "metadata": {
  "kernelspec": {
   "display_name": "Python 3",
   "language": "python",
   "name": "python3"
  },
  "language_info": {
   "codemirror_mode": {
    "name": "ipython",
    "version": 3
   },
   "file_extension": ".py",
   "mimetype": "text/x-python",
   "name": "python",
   "nbconvert_exporter": "python",
   "pygments_lexer": "ipython3",
   "version": "3.7.3"
  }
 },
 "nbformat": 4,
 "nbformat_minor": 2
}

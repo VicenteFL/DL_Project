{
 "cells": [
  {
   "cell_type": "code",
   "execution_count": 1,
   "metadata": {},
   "outputs": [],
   "source": [
    "import numpy as np\n",
    "import pandas as pd\n",
    "import os\n",
    "import re\n",
    "import unidecode\n",
    "\n",
    "from gensim.test.utils import get_tmpfile\n",
    "from gensim.models import Word2Vec"
   ]
  },
  {
   "cell_type": "code",
   "execution_count": 2,
   "metadata": {},
   "outputs": [],
   "source": [
    "data_dir = \"Data\""
   ]
  },
  {
   "cell_type": "code",
   "execution_count": 3,
   "metadata": {},
   "outputs": [],
   "source": [
    "df = pd.read_csv(os.path.join(data_dir,\"train.csv\"))"
   ]
  },
  {
   "cell_type": "code",
   "execution_count": 4,
   "metadata": {},
   "outputs": [
    {
     "data": {
      "text/plain": [
       "(1804874, 45)"
      ]
     },
     "execution_count": 4,
     "metadata": {},
     "output_type": "execute_result"
    }
   ],
   "source": [
    "#Primera prueba con el 20% del Dataframe\n",
    "df_short = df.sample(frac=1)\n",
    "df_short.shape"
   ]
  },
  {
   "cell_type": "code",
   "execution_count": 5,
   "metadata": {},
   "outputs": [],
   "source": [
    "texts = df_short[\"comment_text\"].values "
   ]
  },
  {
   "cell_type": "markdown",
   "metadata": {},
   "source": [
    "## Preprocessing"
   ]
  },
  {
   "cell_type": "code",
   "execution_count": 6,
   "metadata": {},
   "outputs": [],
   "source": [
    "from nltk.tokenize import word_tokenize, TreebankWordTokenizer, WordPunctTokenizer\n",
    "\n",
    "def tokenize_text(text, word=True, tokenizer=None):\n",
    "    if tokenizer is None and word:\n",
    "        tokens = word_tokenize(text)\n",
    "    elif tokenizer is None and not word:\n",
    "        tokens = sent_tokenize(text)\n",
    "    else:\n",
    "        tokens = tokenizer.tokenize(text)\n",
    "    return tokens "
   ]
  },
  {
   "cell_type": "code",
   "execution_count": 7,
   "metadata": {},
   "outputs": [],
   "source": [
    "def convert_characters(text, style='lower'):\n",
    "    if style == 'lower':\n",
    "        out = text.lower()\n",
    "    else:\n",
    "        out = text.upper()\n",
    "    return out"
   ]
  },
  {
   "cell_type": "code",
   "execution_count": 8,
   "metadata": {},
   "outputs": [],
   "source": [
    "def remove_blanks(tokens):\n",
    "    return [token.strip() for token in tokens]"
   ]
  },
  {
   "cell_type": "code",
   "execution_count": 9,
   "metadata": {},
   "outputs": [],
   "source": [
    "def remove_accents(tokens):\n",
    "    tokens = [unidecode.unidecode(token) for token in tokens]\n",
    "    return(tokens)"
   ]
  },
  {
   "cell_type": "code",
   "execution_count": 10,
   "metadata": {},
   "outputs": [],
   "source": [
    "english_contractions_mapping = {\n",
    "    \"ain't\": \"is not\", \"aren't\": \"are not\",\"can't\": \"cannot\", \n",
    "    \"can't've\": \"cannot have\", \"'cause\": \"because\", \"could've\": \"could have\", \n",
    "    \"couldn't\": \"could not\", \"couldn't've\": \"could not have\",\"didn't\": \"did not\", \n",
    "    \"doesn't\": \"does not\", \"don't\": \"do not\", \"hadn't\": \"had not\", \n",
    "    \"hadn't've\": \"had not have\", \"hasn't\": \"has not\", \"haven't\": \"have not\", \n",
    "    \"he'd\": \"he would\", \"he'd've\": \"he would have\", \"he'll\": \"he will\", \n",
    "    \"he'll've\": \"he he will have\", \"he's\": \"he is\", \"how'd\": \"how did\", \n",
    "    \"how'd'y\": \"how do you\", \"how'll\": \"how will\", \"how's\": \"how is\", \n",
    "    \"I'd\": \"I would\", \"I'd've\": \"I would have\", \"I'll\": \"I will\", \n",
    "    \"I'll've\": \"I will have\",\"I'm\": \"I am\", \"I've\": \"I have\", \n",
    "    \"i'd\": \"i would\", \"i'd've\": \"i would have\", \"i'll\": \"i will\", \n",
    "    \"i'll've\": \"i will have\",\"i'm\": \"i am\", \"i've\": \"i have\", \n",
    "    \"isn't\": \"is not\", \"it'd\": \"it would\", \"it'd've\": \"it would have\", \n",
    "    \"it'll\": \"it will\", \"it'll've\": \"it will have\",\"it's\": \"it is\", \n",
    "    \"let's\": \"let us\", \"ma'am\": \"madam\", \"mayn't\": \"may not\", \n",
    "    \"might've\": \"might have\",\"mightn't\": \"might not\",\"mightn't've\": \"might not have\", \n",
    "    \"must've\": \"must have\", \"mustn't\": \"must not\", \"mustn't've\": \"must not have\", \n",
    "    \"needn't\": \"need not\", \"needn't've\": \"need not have\",\"o'clock\": \"of the clock\", \n",
    "    \"oughtn't\": \"ought not\", \"oughtn't've\": \"ought not have\", \"shan't\": \"shall not\",\n",
    "    \"sha'n't\": \"shall not\", \"shan't've\": \"shall not have\", \"she'd\": \"she would\", \n",
    "    \"she'd've\": \"she would have\", \"she'll\": \"she will\", \"she'll've\": \"she will have\", \n",
    "    \"she's\": \"she is\", \"should've\": \"should have\", \"shouldn't\": \"should not\", \n",
    "    \"shouldn't've\": \"should not have\", \"so've\": \"so have\",\"so's\": \"so as\", \n",
    "    \"this's\": \"this is\",\n",
    "    \"that'd\": \"that would\", \"that'd've\": \"that would have\",\"that's\": \"that is\", \n",
    "    \"there'd\": \"there would\", \"there'd've\": \"there would have\",\"there's\": \"there is\", \n",
    "    \"they'd\": \"they would\", \"they'd've\": \"they would have\", \"they'll\": \"they will\", \n",
    "    \"they'll've\": \"they will have\", \"they're\": \"they are\", \"they've\": \"they have\", \n",
    "    \"to've\": \"to have\", \"wasn't\": \"was not\", \"we'd\": \"we would\", \n",
    "    \"we'd've\": \"we would have\", \"we'll\": \"we will\", \"we'll've\": \"we will have\", \n",
    "    \"we're\": \"we are\", \"we've\": \"we have\", \"weren't\": \"were not\", \n",
    "    \"what'll\": \"what will\", \"what'll've\": \"what will have\", \"what're\": \"what are\", \n",
    "    \"what's\": \"what is\", \"what've\": \"what have\", \"when's\": \"when is\", \n",
    "    \"when've\": \"when have\", \"where'd\": \"where did\", \"where's\": \"where is\", \n",
    "    \"where've\": \"where have\", \"who'll\": \"who will\", \"who'll've\": \"who will have\", \n",
    "    \"who's\": \"who is\", \"who've\": \"who have\", \"why's\": \"why is\", \n",
    "    \"why've\": \"why have\", \"will've\": \"will have\", \"won't\": \"will not\", \n",
    "    \"won't've\": \"will not have\", \"would've\": \"would have\", \"wouldn't\": \"would not\", \n",
    "    \"wouldn't've\": \"would not have\", \"y'all\": \"you all\", \"y'all'd\": \"you all would\",\n",
    "    \"y'all'd've\": \"you all would have\",\"y'all're\": \"you all are\",\"y'all've\": \"you all have\",\n",
    "    \"you'd\": \"you would\", \"you'd've\": \"you would have\", \"you'll\": \"you will\", \n",
    "    \"you'll've\": \"you will have\", \"you're\": \"you are\", \"you've\": \"you have\"\n",
    "} "
   ]
  },
  {
   "cell_type": "code",
   "execution_count": 11,
   "metadata": {},
   "outputs": [],
   "source": [
    "def expand_match(contraction): \n",
    "        match = contraction.group(0) \n",
    "        first_char = match[0] \n",
    "        expanded_contraction = english_contractions_mapping.get(match) if english_contractions_mapping.get(match) else english_contractions_mapping.get(match.lower())                        \n",
    "        expanded_contraction = first_char+expanded_contraction[1:] \n",
    "        return expanded_contraction \n",
    "    \n",
    "def expand_contractions(sentence, english_contractions_mapping):    \n",
    "    contractions_pattern = re.compile('({})'.format('|'.join(english_contractions_mapping.keys())),\n",
    "                                      flags=re.IGNORECASE|re.DOTALL) \n",
    "    return contractions_pattern.sub(expand_match, sentence)    "
   ]
  },
  {
   "cell_type": "code",
   "execution_count": 12,
   "metadata": {},
   "outputs": [],
   "source": [
    "from nltk.corpus import stopwords"
   ]
  },
  {
   "cell_type": "code",
   "execution_count": 13,
   "metadata": {},
   "outputs": [],
   "source": [
    "english_nltk_stopwords = stopwords.words('english')"
   ]
  },
  {
   "cell_type": "code",
   "execution_count": 14,
   "metadata": {},
   "outputs": [],
   "source": [
    "def remove_stopwords(tokens, stopwords_list):\n",
    "    return [token for token in tokens if token not in stopwords_list]"
   ]
  },
  {
   "cell_type": "code",
   "execution_count": 15,
   "metadata": {},
   "outputs": [],
   "source": [
    "import string\n",
    "def remove_punct(tokens):\n",
    "    out = [''.join(c for c in s if c not in string.punctuation) for s in tokens]\n",
    "    out = [s for s in out if s]\n",
    "    return out"
   ]
  },
  {
   "cell_type": "code",
   "execution_count": 16,
   "metadata": {},
   "outputs": [],
   "source": [
    "from nltk.stem import WordNetLemmatizer\n",
    "def lemmatize(tokens):\n",
    "    lemmatizer = WordNetLemmatizer()\n",
    "    out=[]\n",
    "    for token in tokens:\n",
    "        out.append(lemmatizer.lemmatize(token))\n",
    "    return out"
   ]
  },
  {
   "cell_type": "markdown",
   "metadata": {},
   "source": [
    "### Applying preprocessing functions"
   ]
  },
  {
   "cell_type": "code",
   "execution_count": 17,
   "metadata": {},
   "outputs": [],
   "source": [
    "texts_2 = []\n",
    "for text in texts:\n",
    "    texts_2.append(expand_contractions(text,english_contractions_mapping))"
   ]
  },
  {
   "cell_type": "code",
   "execution_count": 18,
   "metadata": {},
   "outputs": [
    {
     "name": "stdout",
     "output_type": "stream",
     "text": [
      ".\n",
      "\"But now, the man seen by many as too left-wing, too boring and too out of touch \"\n",
      "\n",
      "But now, it has been delivered to the Brits in no uncertain terms that it is in fact Ms. May who is boring, out of touch while  the Conservatives that are taking a political beating for their self inflicted wound, aka; Brexit.\n",
      "\n",
      "Make no mistake, a good majority of the Con MP's in the House were in support of Brexit. \n",
      "\n",
      "They just don't wants to talk about it anymore. I wonder WHY????\n",
      "\n",
      ".\n"
     ]
    }
   ],
   "source": [
    "print(texts[2])"
   ]
  },
  {
   "cell_type": "code",
   "execution_count": 19,
   "metadata": {},
   "outputs": [
    {
     "data": {
      "text/plain": [
       "'.\\n\"But now, the man seen by many as too left-wing, too boring and too out of touch \"\\n\\nBut now, it has been delivered to the Brits in no uncertain terms that it is in fact Ms. May who is boring, out of touch while  the Conservatives that are taking a political beating for their self inflicted wound, aka; Brexit.\\n\\nMake no mistake, a good majority of the Con MP\\'s in the House were in support of Brexit. \\n\\nThey just do not wants to talk about it anymore. I wonder WHY????\\n\\n.'"
      ]
     },
     "execution_count": 19,
     "metadata": {},
     "output_type": "execute_result"
    }
   ],
   "source": [
    "texts_2[2]"
   ]
  },
  {
   "cell_type": "code",
   "execution_count": 20,
   "metadata": {},
   "outputs": [],
   "source": [
    "texts_3=[]\n",
    "for text in texts_2:\n",
    "    texts_3.append(convert_characters(text))"
   ]
  },
  {
   "cell_type": "code",
   "execution_count": 21,
   "metadata": {},
   "outputs": [
    {
     "data": {
      "text/plain": [
       "'.\\n\"but now, the man seen by many as too left-wing, too boring and too out of touch \"\\n\\nbut now, it has been delivered to the brits in no uncertain terms that it is in fact ms. may who is boring, out of touch while  the conservatives that are taking a political beating for their self inflicted wound, aka; brexit.\\n\\nmake no mistake, a good majority of the con mp\\'s in the house were in support of brexit. \\n\\nthey just do not wants to talk about it anymore. i wonder why????\\n\\n.'"
      ]
     },
     "execution_count": 21,
     "metadata": {},
     "output_type": "execute_result"
    }
   ],
   "source": [
    "texts_3[2]"
   ]
  },
  {
   "cell_type": "code",
   "execution_count": 22,
   "metadata": {},
   "outputs": [],
   "source": [
    "tokens=[]\n",
    "for text in texts_3:\n",
    "    tokens.append(tokenize_text(text))"
   ]
  },
  {
   "cell_type": "code",
   "execution_count": 23,
   "metadata": {},
   "outputs": [
    {
     "data": {
      "text/plain": [
       "['.',\n",
       " '``',\n",
       " 'but',\n",
       " 'now',\n",
       " ',',\n",
       " 'the',\n",
       " 'man',\n",
       " 'seen',\n",
       " 'by',\n",
       " 'many',\n",
       " 'as',\n",
       " 'too',\n",
       " 'left-wing',\n",
       " ',',\n",
       " 'too',\n",
       " 'boring',\n",
       " 'and',\n",
       " 'too',\n",
       " 'out',\n",
       " 'of',\n",
       " 'touch',\n",
       " '``',\n",
       " 'but',\n",
       " 'now',\n",
       " ',',\n",
       " 'it',\n",
       " 'has',\n",
       " 'been',\n",
       " 'delivered',\n",
       " 'to',\n",
       " 'the',\n",
       " 'brits',\n",
       " 'in',\n",
       " 'no',\n",
       " 'uncertain',\n",
       " 'terms',\n",
       " 'that',\n",
       " 'it',\n",
       " 'is',\n",
       " 'in',\n",
       " 'fact',\n",
       " 'ms.',\n",
       " 'may',\n",
       " 'who',\n",
       " 'is',\n",
       " 'boring',\n",
       " ',',\n",
       " 'out',\n",
       " 'of',\n",
       " 'touch',\n",
       " 'while',\n",
       " 'the',\n",
       " 'conservatives',\n",
       " 'that',\n",
       " 'are',\n",
       " 'taking',\n",
       " 'a',\n",
       " 'political',\n",
       " 'beating',\n",
       " 'for',\n",
       " 'their',\n",
       " 'self',\n",
       " 'inflicted',\n",
       " 'wound',\n",
       " ',',\n",
       " 'aka',\n",
       " ';',\n",
       " 'brexit',\n",
       " '.',\n",
       " 'make',\n",
       " 'no',\n",
       " 'mistake',\n",
       " ',',\n",
       " 'a',\n",
       " 'good',\n",
       " 'majority',\n",
       " 'of',\n",
       " 'the',\n",
       " 'con',\n",
       " 'mp',\n",
       " \"'s\",\n",
       " 'in',\n",
       " 'the',\n",
       " 'house',\n",
       " 'were',\n",
       " 'in',\n",
       " 'support',\n",
       " 'of',\n",
       " 'brexit',\n",
       " '.',\n",
       " 'they',\n",
       " 'just',\n",
       " 'do',\n",
       " 'not',\n",
       " 'wants',\n",
       " 'to',\n",
       " 'talk',\n",
       " 'about',\n",
       " 'it',\n",
       " 'anymore',\n",
       " '.',\n",
       " 'i',\n",
       " 'wonder',\n",
       " 'why',\n",
       " '?',\n",
       " '?',\n",
       " '?',\n",
       " '?',\n",
       " '.']"
      ]
     },
     "execution_count": 23,
     "metadata": {},
     "output_type": "execute_result"
    }
   ],
   "source": [
    "tokens[2]"
   ]
  },
  {
   "cell_type": "code",
   "execution_count": 24,
   "metadata": {},
   "outputs": [],
   "source": [
    "clean_toks=[]\n",
    "for row in tokens:\n",
    "    clean_toks.append(remove_stopwords(row, english_nltk_stopwords))"
   ]
  },
  {
   "cell_type": "code",
   "execution_count": 25,
   "metadata": {},
   "outputs": [
    {
     "data": {
      "text/plain": [
       "['.',\n",
       " '``',\n",
       " ',',\n",
       " 'man',\n",
       " 'seen',\n",
       " 'many',\n",
       " 'left-wing',\n",
       " ',',\n",
       " 'boring',\n",
       " 'touch',\n",
       " '``',\n",
       " ',',\n",
       " 'delivered',\n",
       " 'brits',\n",
       " 'uncertain',\n",
       " 'terms',\n",
       " 'fact',\n",
       " 'ms.',\n",
       " 'may',\n",
       " 'boring',\n",
       " ',',\n",
       " 'touch',\n",
       " 'conservatives',\n",
       " 'taking',\n",
       " 'political',\n",
       " 'beating',\n",
       " 'self',\n",
       " 'inflicted',\n",
       " 'wound',\n",
       " ',',\n",
       " 'aka',\n",
       " ';',\n",
       " 'brexit',\n",
       " '.',\n",
       " 'make',\n",
       " 'mistake',\n",
       " ',',\n",
       " 'good',\n",
       " 'majority',\n",
       " 'con',\n",
       " 'mp',\n",
       " \"'s\",\n",
       " 'house',\n",
       " 'support',\n",
       " 'brexit',\n",
       " '.',\n",
       " 'wants',\n",
       " 'talk',\n",
       " 'anymore',\n",
       " '.',\n",
       " 'wonder',\n",
       " '?',\n",
       " '?',\n",
       " '?',\n",
       " '?',\n",
       " '.']"
      ]
     },
     "execution_count": 25,
     "metadata": {},
     "output_type": "execute_result"
    }
   ],
   "source": [
    "clean_toks[2]"
   ]
  },
  {
   "cell_type": "code",
   "execution_count": 26,
   "metadata": {},
   "outputs": [],
   "source": [
    "clean_toks2=[]\n",
    "for row in clean_toks:\n",
    "    clean_toks2.append(remove_punct(row))"
   ]
  },
  {
   "cell_type": "code",
   "execution_count": 27,
   "metadata": {},
   "outputs": [
    {
     "data": {
      "text/plain": [
       "['man',\n",
       " 'seen',\n",
       " 'many',\n",
       " 'leftwing',\n",
       " 'boring',\n",
       " 'touch',\n",
       " 'delivered',\n",
       " 'brits',\n",
       " 'uncertain',\n",
       " 'terms',\n",
       " 'fact',\n",
       " 'ms',\n",
       " 'may',\n",
       " 'boring',\n",
       " 'touch',\n",
       " 'conservatives',\n",
       " 'taking',\n",
       " 'political',\n",
       " 'beating',\n",
       " 'self',\n",
       " 'inflicted',\n",
       " 'wound',\n",
       " 'aka',\n",
       " 'brexit',\n",
       " 'make',\n",
       " 'mistake',\n",
       " 'good',\n",
       " 'majority',\n",
       " 'con',\n",
       " 'mp',\n",
       " 's',\n",
       " 'house',\n",
       " 'support',\n",
       " 'brexit',\n",
       " 'wants',\n",
       " 'talk',\n",
       " 'anymore',\n",
       " 'wonder']"
      ]
     },
     "execution_count": 27,
     "metadata": {},
     "output_type": "execute_result"
    }
   ],
   "source": [
    "clean_toks2[2]"
   ]
  },
  {
   "cell_type": "code",
   "execution_count": 28,
   "metadata": {},
   "outputs": [],
   "source": [
    "clean_toks3=[]\n",
    "for row in clean_toks2:\n",
    "    clean_toks3.append(lemmatize(row))"
   ]
  },
  {
   "cell_type": "code",
   "execution_count": 29,
   "metadata": {},
   "outputs": [
    {
     "data": {
      "text/plain": [
       "['man',\n",
       " 'seen',\n",
       " 'many',\n",
       " 'leftwing',\n",
       " 'boring',\n",
       " 'touch',\n",
       " 'delivered',\n",
       " 'brit',\n",
       " 'uncertain',\n",
       " 'term',\n",
       " 'fact',\n",
       " 'm',\n",
       " 'may',\n",
       " 'boring',\n",
       " 'touch',\n",
       " 'conservative',\n",
       " 'taking',\n",
       " 'political',\n",
       " 'beating',\n",
       " 'self',\n",
       " 'inflicted',\n",
       " 'wound',\n",
       " 'aka',\n",
       " 'brexit',\n",
       " 'make',\n",
       " 'mistake',\n",
       " 'good',\n",
       " 'majority',\n",
       " 'con',\n",
       " 'mp',\n",
       " 's',\n",
       " 'house',\n",
       " 'support',\n",
       " 'brexit',\n",
       " 'want',\n",
       " 'talk',\n",
       " 'anymore',\n",
       " 'wonder']"
      ]
     },
     "execution_count": 29,
     "metadata": {},
     "output_type": "execute_result"
    }
   ],
   "source": [
    "clean_toks3[2]"
   ]
  },
  {
   "cell_type": "markdown",
   "metadata": {},
   "source": [
    "## Train Word2Vec"
   ]
  },
  {
   "cell_type": "code",
   "execution_count": 30,
   "metadata": {},
   "outputs": [],
   "source": [
    "path = get_tmpfile(\"word2vec.model\")\n",
    "\n",
    "model = Word2Vec(clean_toks3, size=2, window=5, min_count=1, workers=4)\n",
    "model.save(\"word2vec100.model\")"
   ]
  },
  {
   "cell_type": "code",
   "execution_count": 31,
   "metadata": {},
   "outputs": [
    {
     "name": "stdout",
     "output_type": "stream",
     "text": [
      "[-3.9908543 -4.3346076]\n"
     ]
    }
   ],
   "source": [
    "trump_vector = model.wv['trump']\n",
    "print(trump_vector)"
   ]
  },
  {
   "cell_type": "code",
   "execution_count": 32,
   "metadata": {},
   "outputs": [],
   "source": [
    "embeds={}\n",
    "for word in model.wv.vocab.keys():\n",
    "    embeds[word]=model.wv[word]"
   ]
  },
  {
   "cell_type": "code",
   "execution_count": 33,
   "metadata": {},
   "outputs": [
    {
     "name": "stdout",
     "output_type": "stream",
     "text": [
      "477143 words\n"
     ]
    }
   ],
   "source": [
    "print(len(embeds),\"words\")"
   ]
  },
  {
   "cell_type": "code",
   "execution_count": null,
   "metadata": {},
   "outputs": [],
   "source": []
  }
 ],
 "metadata": {
  "kernelspec": {
   "display_name": "Python 3",
   "language": "python",
   "name": "python3"
  },
  "language_info": {
   "codemirror_mode": {
    "name": "ipython",
    "version": 3
   },
   "file_extension": ".py",
   "mimetype": "text/x-python",
   "name": "python",
   "nbconvert_exporter": "python",
   "pygments_lexer": "ipython3",
   "version": "3.7.0"
  }
 },
 "nbformat": 4,
 "nbformat_minor": 2
}

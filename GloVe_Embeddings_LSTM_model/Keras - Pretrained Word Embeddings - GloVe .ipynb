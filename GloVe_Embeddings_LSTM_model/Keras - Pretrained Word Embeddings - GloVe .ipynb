{
 "cells": [
  {
   "cell_type": "markdown",
   "metadata": {},
   "source": [
    "# Pretrained word embeddings - GloVe "
   ]
  },
  {
   "cell_type": "code",
   "execution_count": 1,
   "metadata": {},
   "outputs": [
    {
     "name": "stderr",
     "output_type": "stream",
     "text": [
      "Using TensorFlow backend.\n"
     ]
    }
   ],
   "source": [
    "import numpy as np\n",
    "import pandas as pd\n",
    "import os, re, codecs\n",
    "\n",
    "from tqdm import tqdm\n",
    "\n",
    "from sklearn.model_selection import train_test_split\n",
    "\n",
    "import tensorflow as tf\n",
    "\n",
    "import keras\n",
    "from keras import optimizers\n",
    "from keras import backend as K\n",
    "from keras import regularizers\n",
    "from keras.models import Sequential\n",
    "from keras.layers import Dense, Activation, Dropout, Flatten\n",
    "from keras.layers import Embedding, Conv1D, MaxPooling1D, GlobalMaxPooling1D, LSTM, GRU\n",
    "from keras.utils import plot_model\n",
    "from keras.preprocessing.sequence import pad_sequences\n",
    "from keras.preprocessing.text import Tokenizer\n",
    "from keras.callbacks import EarlyStopping"
   ]
  },
  {
   "cell_type": "markdown",
   "metadata": {},
   "source": [
    "### Parsing the GloVe word-embeddings file"
   ]
  },
  {
   "cell_type": "code",
   "execution_count": 2,
   "metadata": {},
   "outputs": [
    {
     "name": "stdout",
     "output_type": "stream",
     "text": [
      "Found 400000 word vectors.\n"
     ]
    }
   ],
   "source": [
    "glove_dir = '.'\n",
    "\n",
    "embeddings_index = {}\n",
    "f = open(os.path.join(glove_dir, 'glove.6B.100d.txt'), encoding=\"utf8\")\n",
    "for line in f:\n",
    "    values = line.split()\n",
    "    word = values[0]\n",
    "    coefs = np.asarray(values[1:], dtype='float32')\n",
    "    embeddings_index[word] = coefs\n",
    "f.close()\n",
    "\n",
    "print('Found %s word vectors.' % len(embeddings_index))"
   ]
  },
  {
   "cell_type": "markdown",
   "metadata": {},
   "source": [
    "### Load data"
   ]
  },
  {
   "cell_type": "code",
   "execution_count": 3,
   "metadata": {},
   "outputs": [],
   "source": [
    "data_dir = \"../dlnn/datasets\""
   ]
  },
  {
   "cell_type": "code",
   "execution_count": 4,
   "metadata": {},
   "outputs": [],
   "source": [
    "df = pd.read_csv(os.path.join(data_dir, \"df_final.csv\"))"
   ]
  },
  {
   "cell_type": "markdown",
   "metadata": {},
   "source": [
    "### Tokenizing the data"
   ]
  },
  {
   "cell_type": "code",
   "execution_count": 5,
   "metadata": {},
   "outputs": [],
   "source": [
    "maxwords = 100000"
   ]
  },
  {
   "cell_type": "code",
   "execution_count": 6,
   "metadata": {},
   "outputs": [],
   "source": [
    "df_X = df[\"comment_text\"]\n",
    "df_Y = df[\"target_dis\"]"
   ]
  },
  {
   "cell_type": "code",
   "execution_count": 7,
   "metadata": {},
   "outputs": [],
   "source": [
    "df['doc_len'] = df['comment_text'].apply(lambda words: len(words.split(\" \")))\n",
    "max_seq_len = np.round(df['doc_len'].mean() + df['doc_len'].std()).astype(int)\n",
    "max_seq_len = 80 # Hard-coded: changed from 100 to 80"
   ]
  },
  {
   "cell_type": "code",
   "execution_count": 8,
   "metadata": {},
   "outputs": [],
   "source": [
    "X_train, X_test, y_train, y_test = train_test_split(df_X, df_Y, test_size=0.8)"
   ]
  },
  {
   "cell_type": "code",
   "execution_count": 9,
   "metadata": {},
   "outputs": [
    {
     "name": "stdout",
     "output_type": "stream",
     "text": [
      "dictionary size:  302139\n"
     ]
    }
   ],
   "source": [
    "tokenizer = Tokenizer(num_words = maxwords)# Creates a tokenizer, configured to only take into account the 1,000 most common words\n",
    "tokenizer.fit_on_texts(df_X)# Builds the word index\n",
    "\n",
    "X_train = tokenizer.texts_to_sequences(X_train)# Turn strings into lists of integer indices\n",
    "X_test = tokenizer.texts_to_sequences(X_test)\n",
    "\n",
    "word_index = tokenizer.word_index\n",
    "print(\"dictionary size: \", len(word_index))"
   ]
  },
  {
   "cell_type": "code",
   "execution_count": 10,
   "metadata": {},
   "outputs": [],
   "source": [
    "X_train = pad_sequences(X_train, padding='post', maxlen=max_seq_len)# Turns the lists of integers into a 2D tensor of shape (samples, maxlen)\n",
    "X_test = pad_sequences(X_test, padding='post', maxlen=max_seq_len)"
   ]
  },
  {
   "cell_type": "markdown",
   "metadata": {},
   "source": [
    "### Training and model parameters"
   ]
  },
  {
   "cell_type": "code",
   "execution_count": 11,
   "metadata": {},
   "outputs": [],
   "source": [
    "# Training params\n",
    "batch_size = 64\n",
    "epochs = 4\n",
    "\n",
    "# Model parameters\n",
    "# Convolution\n",
    "num_filters = 64\n",
    "kernel_size = 7\n",
    "embed_dim = 100\n",
    "weight_decay = 1e-4\n",
    "pool_size = 4\n",
    "\n",
    "# LSTM\n",
    "lstm_output_size = 100"
   ]
  },
  {
   "cell_type": "markdown",
   "metadata": {},
   "source": [
    "### Preparing the GloVe word-embeddings matrix"
   ]
  },
  {
   "cell_type": "code",
   "execution_count": 12,
   "metadata": {},
   "outputs": [
    {
     "name": "stdout",
     "output_type": "stream",
     "text": [
      "Preparing embedding matrix...\n",
      "number of null word embeddings: 29048\n"
     ]
    }
   ],
   "source": [
    "print('Preparing embedding matrix...')\n",
    "\n",
    "words_not_found = []\n",
    "nb_words = min(maxwords, len(word_index))\n",
    "embedding_matrix = np.zeros((nb_words, embed_dim))\n",
    "for word, i in word_index.items():\n",
    "    if i >= nb_words:\n",
    "        continue\n",
    "    embedding_vector = embeddings_index.get(word)\n",
    "    if (embedding_vector is not None) and len(embedding_vector) > 0:\n",
    "        # words not found in embedding index will be all-zeros.\n",
    "        embedding_matrix[i] = embedding_vector\n",
    "    else:\n",
    "        words_not_found.append(word)\n",
    "        \n",
    "print('number of null word embeddings: %d' % np.sum(np.sum(embedding_matrix, axis=1) == 0))"
   ]
  },
  {
   "cell_type": "code",
   "execution_count": 13,
   "metadata": {},
   "outputs": [
    {
     "data": {
      "text/plain": [
       "(100000, 100)"
      ]
     },
     "execution_count": 13,
     "metadata": {},
     "output_type": "execute_result"
    }
   ],
   "source": [
    "embedding_matrix.shape"
   ]
  },
  {
   "cell_type": "code",
   "execution_count": 14,
   "metadata": {},
   "outputs": [
    {
     "name": "stdout",
     "output_type": "stream",
     "text": [
      "sample words not found:  ['intolerent' \"remembrance'\" 'antifederalist' 'makeharperpay' \"chicago's\"\n",
      " 'hense' 'timesharescam' \"'whole'\" 'thought”' 'pipeliners']\n"
     ]
    }
   ],
   "source": [
    "print(\"sample words not found: \", np.random.choice(words_not_found, 10))"
   ]
  },
  {
   "cell_type": "code",
   "execution_count": 15,
   "metadata": {},
   "outputs": [
    {
     "data": {
      "text/plain": [
       "array([[ 0.        ,  0.        ,  0.        , ...,  0.        ,\n",
       "         0.        ,  0.        ],\n",
       "       [-0.038194  , -0.24487001,  0.72812003, ..., -0.1459    ,\n",
       "         0.82779998,  0.27061999],\n",
       "       [-0.18970001,  0.050024  ,  0.19084001, ..., -0.39804   ,\n",
       "         0.47646999, -0.15983   ],\n",
       "       ...,\n",
       "       [ 0.08102   , -0.86128002, -0.016348  , ...,  0.22133   ,\n",
       "         0.078387  , -0.28375   ],\n",
       "       [ 0.        ,  0.        ,  0.        , ...,  0.        ,\n",
       "         0.        ,  0.        ],\n",
       "       [ 0.91210997,  0.19836999, -0.28896999, ...,  0.0389    ,\n",
       "        -0.41701001,  0.2773    ]])"
      ]
     },
     "execution_count": 15,
     "metadata": {},
     "output_type": "execute_result"
    }
   ],
   "source": [
    "embedding_matrix"
   ]
  },
  {
   "cell_type": "markdown",
   "metadata": {},
   "source": [
    "### Custom metrics:  f1_score, precision, recall"
   ]
  },
  {
   "cell_type": "code",
   "execution_count": 16,
   "metadata": {},
   "outputs": [],
   "source": [
    "def recall_m(y_true, y_pred):\n",
    "        true_positives = K.sum(K.round(K.clip(y_true * y_pred, 0, 1)))\n",
    "        possible_positives = K.sum(K.round(K.clip(y_true, 0, 1)))\n",
    "        recall = true_positives / (possible_positives + K.epsilon())\n",
    "        return recall\n",
    "\n",
    "def precision_m(y_true, y_pred):\n",
    "        true_positives = K.sum(K.round(K.clip(y_true * y_pred, 0, 1)))\n",
    "        predicted_positives = K.sum(K.round(K.clip(y_pred, 0, 1)))\n",
    "        precision = true_positives / (predicted_positives + K.epsilon())\n",
    "        return precision\n",
    "\n",
    "def f1_m(y_true, y_pred):\n",
    "    precision = precision_m(y_true, y_pred)\n",
    "    recall = recall_m(y_true, y_pred)\n",
    "    return 2*((precision*recall)/(precision+recall+K.epsilon()))"
   ]
  },
  {
   "cell_type": "markdown",
   "metadata": {},
   "source": [
    "### Defining and training a model"
   ]
  },
  {
   "cell_type": "code",
   "execution_count": 17,
   "metadata": {},
   "outputs": [
    {
     "name": "stdout",
     "output_type": "stream",
     "text": [
      "WARNING:tensorflow:From D:\\Datos\\Software\\Anaconda3031019\\lib\\site-packages\\tensorflow\\python\\keras\\initializers.py:119: calling RandomUniform.__init__ (from tensorflow.python.ops.init_ops) with dtype is deprecated and will be removed in a future version.\n",
      "Instructions for updating:\n",
      "Call initializer instance with the dtype argument instead of passing it to the constructor\n",
      "WARNING:tensorflow:From D:\\Datos\\Software\\Anaconda3031019\\lib\\site-packages\\tensorflow\\python\\ops\\init_ops.py:1251: calling VarianceScaling.__init__ (from tensorflow.python.ops.init_ops) with dtype is deprecated and will be removed in a future version.\n",
      "Instructions for updating:\n",
      "Call initializer instance with the dtype argument instead of passing it to the constructor\n",
      "Model: \"model\"\n",
      "_________________________________________________________________\n",
      "Layer (type)                 Output Shape              Param #   \n",
      "=================================================================\n",
      "input_1 (InputLayer)         [(None, 80)]              0         \n",
      "_________________________________________________________________\n",
      "embedding (Embedding)        (None, 80, 100)           10000000  \n",
      "_________________________________________________________________\n",
      "lstm (LSTM)                  (None, 100)               80400     \n",
      "_________________________________________________________________\n",
      "dropout (Dropout)            (None, 100)               0         \n",
      "_________________________________________________________________\n",
      "dense (Dense)                (None, 1)                 101       \n",
      "=================================================================\n",
      "Total params: 10,080,501\n",
      "Trainable params: 80,501\n",
      "Non-trainable params: 10,000,000\n",
      "_________________________________________________________________\n",
      "WARNING:tensorflow:From D:\\Datos\\Software\\Anaconda3031019\\lib\\site-packages\\tensorflow\\python\\ops\\nn_impl.py:180: add_dispatch_support.<locals>.wrapper (from tensorflow.python.ops.array_ops) is deprecated and will be removed in a future version.\n",
      "Instructions for updating:\n",
      "Use tf.where in 2.0, which has the same broadcast rule as np.where\n",
      "Train on 172835 samples, validate on 43209 samples\n",
      "Epoch 1/20\n",
      "\n",
      "Epoch 00001: saving model to ./GloVe_train/cp.ckpt\n",
      "172835/172835 - 220s - loss: 0.6489 - acc: 0.6060 - f1_m: 0.5026 - precision_m: 0.6430 - recall_m: 0.4548 - val_loss: 0.5942 - val_acc: 0.6862 - val_f1_m: 0.6754 - val_precision_m: 0.6993 - val_recall_m: 0.6562\n",
      "Epoch 2/20\n",
      "\n",
      "Epoch 00002: saving model to ./GloVe_train/cp.ckpt\n",
      "172835/172835 - 246s - loss: 0.5942 - acc: 0.6872 - f1_m: 0.6817 - precision_m: 0.6923 - recall_m: 0.6759 - val_loss: 0.5853 - val_acc: 0.6937 - val_f1_m: 0.6941 - val_precision_m: 0.6926 - val_recall_m: 0.6992\n",
      "Epoch 3/20\n",
      "\n",
      "Epoch 00003: saving model to ./GloVe_train/cp.ckpt\n",
      "172835/172835 - 240s - loss: 0.5888 - acc: 0.6914 - f1_m: 0.6863 - precision_m: 0.6959 - recall_m: 0.6810 - val_loss: 0.5826 - val_acc: 0.6960 - val_f1_m: 0.6978 - val_precision_m: 0.6937 - val_recall_m: 0.7052\n",
      "Epoch 4/20\n",
      "\n",
      "Epoch 00004: saving model to ./GloVe_train/cp.ckpt\n",
      "172835/172835 - 231s - loss: 0.5860 - acc: 0.6942 - f1_m: 0.6889 - precision_m: 0.6991 - recall_m: 0.6825 - val_loss: 0.5809 - val_acc: 0.6980 - val_f1_m: 0.6856 - val_precision_m: 0.7143 - val_recall_m: 0.6622\n",
      "Epoch 5/20\n",
      "\n",
      "Epoch 00005: saving model to ./GloVe_train/cp.ckpt\n",
      "172835/172835 - 242s - loss: 0.5842 - acc: 0.6959 - f1_m: 0.6903 - precision_m: 0.7011 - recall_m: 0.6835 - val_loss: 0.5794 - val_acc: 0.6994 - val_f1_m: 0.6883 - val_precision_m: 0.7137 - val_recall_m: 0.6677\n",
      "Epoch 6/20\n",
      "\n",
      "Epoch 00006: saving model to ./GloVe_train/cp.ckpt\n",
      "172835/172835 - 228s - loss: 0.5832 - acc: 0.6969 - f1_m: 0.6911 - precision_m: 0.7025 - recall_m: 0.6836 - val_loss: 0.5782 - val_acc: 0.7014 - val_f1_m: 0.6972 - val_precision_m: 0.7060 - val_recall_m: 0.6919\n",
      "Epoch 7/20\n",
      "\n",
      "Epoch 00007: saving model to ./GloVe_train/cp.ckpt\n",
      "172835/172835 - 223s - loss: 0.5819 - acc: 0.6973 - f1_m: 0.6917 - precision_m: 0.7027 - recall_m: 0.6845 - val_loss: 0.5774 - val_acc: 0.7011 - val_f1_m: 0.6934 - val_precision_m: 0.7103 - val_recall_m: 0.6801\n",
      "Epoch 8/20\n",
      "\n",
      "Epoch 00008: saving model to ./GloVe_train/cp.ckpt\n",
      "172835/172835 - 231s - loss: 0.5814 - acc: 0.6978 - f1_m: 0.6924 - precision_m: 0.7035 - recall_m: 0.6852 - val_loss: 0.5765 - val_acc: 0.7021 - val_f1_m: 0.6974 - val_precision_m: 0.7084 - val_recall_m: 0.6899\n",
      "Epoch 9/20\n",
      "\n",
      "Epoch 00009: saving model to ./GloVe_train/cp.ckpt\n",
      "172835/172835 - 231s - loss: 0.5805 - acc: 0.6987 - f1_m: 0.6929 - precision_m: 0.7046 - recall_m: 0.6850 - val_loss: 0.5761 - val_acc: 0.7015 - val_f1_m: 0.6936 - val_precision_m: 0.7131 - val_recall_m: 0.6783\n",
      "Epoch 10/20\n",
      "\n",
      "Epoch 00010: saving model to ./GloVe_train/cp.ckpt\n",
      "172835/172835 - 222s - loss: 0.5800 - acc: 0.6994 - f1_m: 0.6936 - precision_m: 0.7047 - recall_m: 0.6861 - val_loss: 0.5757 - val_acc: 0.7019 - val_f1_m: 0.6927 - val_precision_m: 0.7144 - val_recall_m: 0.6753\n",
      "Epoch 11/20\n",
      "\n",
      "Epoch 00011: saving model to ./GloVe_train/cp.ckpt\n",
      "172835/172835 - 222s - loss: 0.5793 - acc: 0.6992 - f1_m: 0.6933 - precision_m: 0.7052 - recall_m: 0.6851 - val_loss: 0.5752 - val_acc: 0.7023 - val_f1_m: 0.6949 - val_precision_m: 0.7123 - val_recall_m: 0.6813\n",
      "Epoch 12/20\n",
      "\n",
      "Epoch 00012: saving model to ./GloVe_train/cp.ckpt\n",
      "172835/172835 - 221s - loss: 0.5790 - acc: 0.7000 - f1_m: 0.6938 - precision_m: 0.7063 - recall_m: 0.6852 - val_loss: 0.5747 - val_acc: 0.7032 - val_f1_m: 0.6983 - val_precision_m: 0.7089 - val_recall_m: 0.6913\n",
      "Epoch 13/20\n",
      "\n",
      "Epoch 00013: saving model to ./GloVe_train/cp.ckpt\n",
      "172835/172835 - 222s - loss: 0.5785 - acc: 0.6996 - f1_m: 0.6937 - precision_m: 0.7057 - recall_m: 0.6856 - val_loss: 0.5744 - val_acc: 0.7028 - val_f1_m: 0.6960 - val_precision_m: 0.7121 - val_recall_m: 0.6840\n",
      "Epoch 14/20\n",
      "\n",
      "Epoch 00014: saving model to ./GloVe_train/cp.ckpt\n",
      "172835/172835 - 222s - loss: 0.5784 - acc: 0.7003 - f1_m: 0.6944 - precision_m: 0.7063 - recall_m: 0.6864 - val_loss: 0.5740 - val_acc: 0.7035 - val_f1_m: 0.6983 - val_precision_m: 0.7102 - val_recall_m: 0.6902\n",
      "Epoch 15/20\n",
      "\n",
      "Epoch 00015: saving model to ./GloVe_train/cp.ckpt\n",
      "172835/172835 - 223s - loss: 0.5782 - acc: 0.7011 - f1_m: 0.6953 - precision_m: 0.7069 - recall_m: 0.6875 - val_loss: 0.5739 - val_acc: 0.7032 - val_f1_m: 0.6955 - val_precision_m: 0.7139 - val_recall_m: 0.6815\n",
      "Epoch 16/20\n",
      "\n",
      "Epoch 00016: saving model to ./GloVe_train/cp.ckpt\n",
      "172835/172835 - 225s - loss: 0.5778 - acc: 0.7007 - f1_m: 0.6950 - precision_m: 0.7071 - recall_m: 0.6867 - val_loss: 0.5735 - val_acc: 0.7034 - val_f1_m: 0.6972 - val_precision_m: 0.7117 - val_recall_m: 0.6867\n",
      "Epoch 17/20\n",
      "\n",
      "Epoch 00017: saving model to ./GloVe_train/cp.ckpt\n",
      "172835/172835 - 228s - loss: 0.5776 - acc: 0.7009 - f1_m: 0.6946 - precision_m: 0.7070 - recall_m: 0.6861 - val_loss: 0.5733 - val_acc: 0.7037 - val_f1_m: 0.6957 - val_precision_m: 0.7145 - val_recall_m: 0.6813\n",
      "Epoch 18/20\n",
      "\n",
      "Epoch 00018: saving model to ./GloVe_train/cp.ckpt\n",
      "172835/172835 - 223s - loss: 0.5771 - acc: 0.7012 - f1_m: 0.6956 - precision_m: 0.7068 - recall_m: 0.6880 - val_loss: 0.5733 - val_acc: 0.7040 - val_f1_m: 0.6939 - val_precision_m: 0.7179 - val_recall_m: 0.6750\n",
      "Epoch 19/20\n",
      "\n",
      "Epoch 00019: saving model to ./GloVe_train/cp.ckpt\n",
      "172835/172835 - 223s - loss: 0.5769 - acc: 0.7017 - f1_m: 0.6957 - precision_m: 0.7078 - recall_m: 0.6870 - val_loss: 0.5729 - val_acc: 0.7038 - val_f1_m: 0.6970 - val_precision_m: 0.7133 - val_recall_m: 0.6852\n",
      "Epoch 20/20\n",
      "\n",
      "Epoch 00020: saving model to ./GloVe_train/cp.ckpt\n",
      "172835/172835 - 230s - loss: 0.5766 - acc: 0.7015 - f1_m: 0.6960 - precision_m: 0.7073 - recall_m: 0.6884 - val_loss: 0.5727 - val_acc: 0.7041 - val_f1_m: 0.6971 - val_precision_m: 0.7133 - val_recall_m: 0.6846\n"
     ]
    }
   ],
   "source": [
    "inputs = tf.keras.layers.Input(shape=(max_seq_len,))\n",
    "x = tf.keras.layers.Embedding(input_dim=nb_words, output_dim=embed_dim, weights=[embedding_matrix], trainable=False)(inputs)\n",
    "x = tf.keras.layers.LSTM(100)(x)\n",
    "x = tf.keras.layers.Dropout(0.5)(x)\n",
    "outputs = tf.keras.layers.Dense(1, activation='sigmoid')(x)\n",
    "model = tf.keras.Model(inputs, outputs)\n",
    "\n",
    "model.summary()\n",
    "\n",
    "adam = tf.keras.optimizers.Adam(lr=0.0003, beta_1=0.9, beta_2=0.999, epsilon=1e-08, decay=0.01)\n",
    "model.compile(loss='binary_crossentropy', optimizer=adam, metrics=['acc', f1_m, precision_m, recall_m])\n",
    "\n",
    "# Callbacks\n",
    "checkpoint_path = \"./GloVe_train/cp.ckpt\"\n",
    "checkpoint_dir = os.path.dirname(checkpoint_path)\n",
    " \n",
    "cp_callback = tf.keras.callbacks.ModelCheckpoint(checkpoint_path, save_weights_only=True, verbose=1)\n",
    "\n",
    "    # tf.keras.callbacks.EarlyStopping(patience=5, monitor='val_loss'),\n",
    "    # tf.keras.callbacks.TensorBoard(log_dir='./logs'),\n",
    "    \n",
    "callbacks = [\n",
    "    cp_callback\n",
    "]\n",
    "\n",
    "hist = model.fit(X_train, y_train, batch_size=128, epochs=20, callbacks=callbacks, validation_split=0.2, shuffle=True, verbose=2)"
   ]
  },
  {
   "cell_type": "code",
   "execution_count": 18,
   "metadata": {},
   "outputs": [],
   "source": [
    "loss, accuracy, f1_score, precision, recall = model.evaluate(X_test, y_test, verbose=0)"
   ]
  },
  {
   "cell_type": "code",
   "execution_count": 24,
   "metadata": {},
   "outputs": [
    {
     "data": {
      "text/plain": [
       "0.6887274"
      ]
     },
     "execution_count": 24,
     "metadata": {},
     "output_type": "execute_result"
    }
   ],
   "source": [
    "f1_score"
   ]
  },
  {
   "cell_type": "code",
   "execution_count": 25,
   "metadata": {},
   "outputs": [
    {
     "data": {
      "text/plain": [
       "0.701253"
      ]
     },
     "execution_count": 25,
     "metadata": {},
     "output_type": "execute_result"
    }
   ],
   "source": [
    "accuracy"
   ]
  },
  {
   "cell_type": "code",
   "execution_count": 26,
   "metadata": {},
   "outputs": [
    {
     "data": {
      "text/plain": [
       "0.5748324682609659"
      ]
     },
     "execution_count": 26,
     "metadata": {},
     "output_type": "execute_result"
    }
   ],
   "source": [
    "loss"
   ]
  },
  {
   "cell_type": "code",
   "execution_count": null,
   "metadata": {},
   "outputs": [],
   "source": []
  },
  {
   "cell_type": "markdown",
   "metadata": {},
   "source": [
    "### Save whatever model"
   ]
  },
  {
   "cell_type": "code",
   "execution_count": 19,
   "metadata": {},
   "outputs": [
    {
     "name": "stdout",
     "output_type": "stream",
     "text": [
      "Saved model to disk\n"
     ]
    }
   ],
   "source": [
    "model.save(\"CNN_FastText.h5\")\n",
    "print(\"Saved model to disk\")"
   ]
  },
  {
   "cell_type": "markdown",
   "metadata": {},
   "source": [
    "### Plot model results"
   ]
  },
  {
   "cell_type": "code",
   "execution_count": 23,
   "metadata": {},
   "outputs": [
    {
     "data": {
      "image/png": "[encoded data removed]",
      "text/plain": [
       "<Figure size 432x288 with 1 Axes>"
      ]
     },
     "metadata": {
      "needs_background": "light"
     },
     "output_type": "display_data"
    }
   ],
   "source": [
    "import matplotlib.pyplot as plt\n",
    "\n",
    "#generate plots\n",
    "plt.figure()\n",
    "plt.plot(hist.history['loss'], lw=2.0, color='b', label='train')\n",
    "plt.plot(hist.history['val_loss'], lw=2.0, color='r', label='val')\n",
    "plt.title('CNN sentiment')\n",
    "plt.xlabel('Epochs')\n",
    "plt.ylabel('Cross-Entropy Loss')\n",
    "plt.legend(loc='upper right')\n",
    "plt.show()"
   ]
  },
  {
   "cell_type": "code",
   "execution_count": 21,
   "metadata": {},
   "outputs": [
    {
     "data": {
      "image/png": "[encoded data removed]",
      "text/plain": [
       "<Figure size 432x288 with 1 Axes>"
      ]
     },
     "metadata": {
      "needs_background": "light"
     },
     "output_type": "display_data"
    }
   ],
   "source": [
    "plt.figure()\n",
    "plt.plot(hist.history['acc'], lw=2.0, color='b', label='train')\n",
    "plt.plot(hist.history['val_acc'], lw=2.0, color='r', label='val')\n",
    "plt.title('CNN sentiment')\n",
    "plt.xlabel('Epochs')\n",
    "plt.ylabel('Accuracy')\n",
    "\n",
    "plt.legend(loc='upper left')\n",
    "plt.show()"
   ]
  },
  {
   "cell_type": "code",
   "execution_count": 22,
   "metadata": {},
   "outputs": [
    {
     "data": {
      "image/png": "[encoded data removed]",
      "text/plain": [
       "<Figure size 432x288 with 1 Axes>"
      ]
     },
     "metadata": {
      "needs_background": "light"
     },
     "output_type": "display_data"
    }
   ],
   "source": [
    "plt.figure()\n",
    "plt.plot(hist.history['f1_m'], lw=2.0, color='b', label='train')\n",
    "plt.plot(hist.history['val_f1_m'], lw=2.0, color='r', label='val')\n",
    "plt.title('CNN sentiment')\n",
    "plt.xlabel('Epochs')\n",
    "plt.ylabel('f1-score')\n",
    "plt.legend(loc='upper left')\n",
    "plt.show()"
   ]
  },
  {
   "cell_type": "code",
   "execution_count": null,
   "metadata": {},
   "outputs": [],
   "source": []
  },
  {
   "cell_type": "code",
   "execution_count": null,
   "metadata": {},
   "outputs": [],
   "source": []
  }
 ],
 "metadata": {
  "kernelspec": {
   "display_name": "Python 3",
   "language": "python",
   "name": "python3"
  },
  "language_info": {
   "codemirror_mode": {
    "name": "ipython",
    "version": 3
   },
   "file_extension": ".py",
   "mimetype": "text/x-python",
   "name": "python",
   "nbconvert_exporter": "python",
   "pygments_lexer": "ipython3",
   "version": "3.7.3"
  }
 },
 "nbformat": 4,
 "nbformat_minor": 2
}
